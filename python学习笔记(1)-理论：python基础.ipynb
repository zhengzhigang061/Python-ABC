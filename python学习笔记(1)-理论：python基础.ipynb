{
 "cells": [
  {
   "cell_type": "markdown",
   "metadata": {},
   "source": [
    "# 小技巧：\n",
    "\n",
    "<font face=\"微软雅黑\" size='4'> &emsp;&emsp;&emsp;1、python安装目录：在dos界面命令行输入：where python，可返回本机的python的安装路径。  \n",
    "&emsp;&emsp;&emsp;2、C:\\Users\\Administrator>python --version 或者python -V 查看python版本  \n",
    "&emsp;&emsp;&emsp;3、C:\\Users\\Administrator>jupyter notebook 启动Jupyter notebook      \n",
    "&emsp;&emsp;&emsp;4、print('Hello', end='') #输出不换行"
   ]
  },
  {
   "cell_type": "markdown",
   "metadata": {},
   "source": [
    "环境部署  \n",
    "----------------  \n",
    "<font size=4>\n",
    "<br/>一、安装Anaconda  \n",
    "&emsp;&emsp;&emsp;1.Anaconda是python的一个科学计算发行版，内置了数百个python经常会使用的库，也包括了机器学习  \n",
    "&emsp;&emsp;或者数据挖掘的库，如Scikit-learn，  Numpy，Scipy和pandas等，其中有一些可能有一些TensorFlow依赖库     \n",
    "&emsp;&emsp;&emsp;2.Anaconda提供了一个编译好的环境可以直接安装  \n",
    "&emsp;&emsp;&emsp;3.Anaconda自动集成了最新吧的MKL(Math Kernel Library)库，加速矩阵运算和线性代数的运算  \n",
    "&emsp;&emsp;&emsp;4.Anaconda https://www.continuum.io/downloads  \n",
    "&emsp;&emsp;&emsp;5.根据操作系统下载对应版本的Python3.5版  \n",
    "<br/>二、Python包管理  \n",
    "&emsp;&emsp;&emsp;1.安装：pip install xxx, conda install xxx  \n",
    "&emsp;&emsp;&emsp;&emsp;&emsp;&emsp;卸载：pip uninstall xxx,conda uninstall xxx  \n",
    "&emsp;&emsp;&emsp;&emsp;&emsp;&emsp;升级：pip install -upgrade xxx,conda uodate xxx  \n",
    "&emsp;&emsp;&emsp;&emsp;&emsp;&emsp;详细用法：https://pip.pypa.io/en/stable/reference/  \n",
    "\n",
    "&emsp;&emsp;&emsp;2.Python虚拟环境  \n",
    "&emsp;&emsp;&emsp;&emsp;&emsp;&emsp;(1)Virtualenv:https:virtualenv.pypa.io/en/stable/userguide/  \n",
    "&emsp;&emsp;&emsp;&emsp;&emsp;&emsp;(2)conda虚拟环境:https://conda.io/docs/using/envs.html  \n",
    "&emsp;&emsp;&emsp;3.多版本python管理  \n",
    "&emsp;&emsp;&emsp;&emsp;&emsp;&emsp;conda管理:https://conda.io/docs/py2or3.html  \n",
    "<br/>三、IDE  \n",
    "&emsp;&emsp;&emsp;1.Jupyter notebook  \n",
    "&emsp;&emsp;&emsp;&emsp;&emsp;&emsp;(1)Anaconda自带，无需安装  \n",
    "&emsp;&emsp;&emsp;&emsp;&emsp;&emsp;(2)记录思考过程，实时查看运行过程  \n",
    "&emsp;&emsp;&emsp;&emsp;&emsp;&emsp;(3)给予web在线编辑器  \n",
    "&emsp;&emsp;&emsp;&emsp;&emsp;&emsp;(4).ipynb文件分享  \n",
    "&emsp;&emsp;&emsp;&emsp;&emsp;&emsp;(5)可交互式  \n",
    "&emsp;&emsp;&emsp;&emsp;&emsp;&emsp;(6)记录历史运行结果  \n",
    "&emsp;&emsp;&emsp;&emsp;&emsp;&emsp;(7)支持MarkDown ,Latex  \n",
    "\n",
    "&emsp;&emsp;&emsp;2.IPython  \n",
    "&emsp;&emsp;&emsp;&emsp;&emsp;&emsp;(1)Anaconda自带，无需单独安装  \n",
    "&emsp;&emsp;&emsp;&emsp;&emsp;&emsp;(2)Python的交互式命令行Shell  \n",
    "</font>"
   ]
  },
  {
   "cell_type": "markdown",
   "metadata": {},
   "source": [
    "## 一、Python基础回顾"
   ]
  },
  {
   "cell_type": "markdown",
   "metadata": {},
   "source": [
    "# ?和??"
   ]
  },
  {
   "cell_type": "markdown",
   "metadata": {},
   "source": [
    "### .变量+(?)和变量+(??)"
   ]
  },
  {
   "cell_type": "code",
   "execution_count": null,
   "metadata": {},
   "outputs": [],
   "source": [
    "x=5"
   ]
  },
  {
   "cell_type": "code",
   "execution_count": null,
   "metadata": {},
   "outputs": [],
   "source": [
    "x??"
   ]
  },
  {
   "cell_type": "markdown",
   "metadata": {},
   "source": [
    "# <font size=5>IPython魔术命令</font>   \n",
    "<font size=4>.&ensp; %timeit</font>  \n",
    "<font size=4>&ensp; 多次执行一条语句，并返回平均时间，%%timeit->多条语句</font>  \n",
    "<font size=4>.&ensp; %time</font>  \n",
    "<font size=4>&ensp; 返回执行一条语句的时间，%%time->多条语句</font>  \n",
    "<font size=4>.&ensp; %rest</font>  \n",
    "<font size=4>&ensp; 删除当前空间的全部变量</font>  \n",
    "<font size=4>.&ensp; %run *.py</font>  \n",
    "<font size=4>&ensp; 在IPython中执行Python脚本</font>  \n",
    "<font size=4>.&ensp; %魔术命令+(?)显示文档</font>  \n",
    "<font size=4>&ensp; 如：%time?</font>  "
   ]
  },
  {
   "cell_type": "code",
   "execution_count": null,
   "metadata": {},
   "outputs": [],
   "source": [
    "%timeit [x for x in range(10)]"
   ]
  },
  {
   "cell_type": "code",
   "execution_count": null,
   "metadata": {},
   "outputs": [],
   "source": [
    "%%time\n",
    "l = []\n",
    "for x in range(100000):\n",
    "    l.append(x)"
   ]
  },
  {
   "cell_type": "markdown",
   "metadata": {},
   "source": [
    "2.变量不需要指定类型，但是仍然是\"强类型语言\"，只是不显示地表示\n",
    "\n",
    "　　注意python中的变量是没有类型的，只有对象才有类型\n",
    "\n",
    "　　如：x=5，变量x是没有类型的，而是指向整形对象5的一个变量\n",
    "\n",
    "3.可变与不可变\n",
    "\n",
    "　　大部分python对象是可变的(mutable)，e.g.列表、字典，自定义的类\n",
    "\n",
    "　　字符串和元组是不可变的(immutable)\n",
    "\n",
    "4.字符串\n",
    "\n",
    "　　单引号('')，双引号(\"\")均可\n",
    "\n",
    "　　三引号()一般用于放置文档说明(docstring)或多行字符串\n",
    "\n",
    "　　字符串格式化,(%)\n",
    "\n",
    "　　类型转换str bool int float\n",
    "\n",
    "5.时间和日期\n",
    "\n",
    "　　datetime模块\n",
    "\n",
    "　　strftime将datetime类型格式化为字符串\n",
    "\n",
    "6.时间和日期\n",
    "\n",
    "　　strptime将字符串解析为datetime类型\n",
    "\n",
    "7.if  elif   else\n",
    "\n",
    "8.for循环　　　　for item in collection\n",
    "\n",
    "　　　　　　　　continue,break以及他们之间的区别：continue是跳出本次循环，break是跳出整个循环\n",
    "\n",
    "9.while循环\n",
    "\n",
    "10.没有++，--,可用+=1，-=1替代\n",
    "\n",
    "11.pass用于占位：python不允许空代码块\n",
    "\n",
    "12.异常处理：try    except\n",
    "\n",
    "13.range和xrange\n",
    "\n",
    "　　生成整数列表：\n",
    "\n",
    "　　xrange比range效率高，但是xrange不会预先生成列表，而是一个迭代\n",
    "\n",
    "14.关于python中的引用\n",
    "\n",
    "　　变量赋值、传参是值传递\n",
    "\n",
    "　　列表、字典的复制、传参是传引用\n",
    "\n",
    "15.浅拷贝和深拷贝\n",
    "\n",
    "　　浅拷贝的效果：[:]切片操作,copy()。只拷贝父对象，不拷贝对象内部的子对象\n",
    "\n",
    "　　深拷贝：同时拷贝父对象以及子对象"
   ]
  },
  {
   "cell_type": "markdown",
   "metadata": {},
   "source": [
    "## bytes 与 str"
   ]
  },
  {
   "cell_type": "markdown",
   "metadata": {},
   "source": [
    "文本由unicode表示，为str类型\n",
    "\n",
    "二进制数据由bytes（字节包）表示，为bytes类型，代表二进制数据以及被编码的文本，字符串前有个前缀'b'\n",
    "\n",
    "str可以编码(encode)成bytes\n",
    "\n",
    "bytes可以解码(decode)成str"
   ]
  },
  {
   "cell_type": "code",
   "execution_count": null,
   "metadata": {},
   "outputs": [],
   "source": [
    "ch_str = 'Python数据分析升级版'\n",
    "print(ch_str)\n",
    "type(ch_str)"
   ]
  },
  {
   "cell_type": "code",
   "execution_count": null,
   "metadata": {},
   "outputs": [],
   "source": [
    "# str转换成bytes，用encode\n",
    "b_str = ch_str.encode('utf-8')\n",
    "print(b_str)\n",
    "type(b_str)"
   ]
  },
  {
   "cell_type": "code",
   "execution_count": null,
   "metadata": {},
   "outputs": [],
   "source": [
    "# bytes转换成str，用decode\n",
    "ch_str2 = b_str.decode('utf-8')\n",
    "print(ch_str2)\n",
    "type(ch_str2)"
   ]
  },
  {
   "cell_type": "markdown",
   "metadata": {},
   "source": [
    "## 格式化字符串format函数\n",
    "### 通过位置映射"
   ]
  },
  {
   "cell_type": "code",
   "execution_count": null,
   "metadata": {},
   "outputs": [],
   "source": [
    "'{0}, {1}'.format('Python', 2017)"
   ]
  },
  {
   "cell_type": "code",
   "execution_count": null,
   "metadata": {},
   "outputs": [],
   "source": [
    "'{}, {}'.format('Python', 2017)"
   ]
  },
  {
   "cell_type": "code",
   "execution_count": null,
   "metadata": {},
   "outputs": [],
   "source": [
    "'{0}, {1}, {0}'.format('Python', 2017)"
   ]
  },
  {
   "cell_type": "markdown",
   "metadata": {},
   "source": [
    "### 通过关键字映射"
   ]
  },
  {
   "cell_type": "code",
   "execution_count": null,
   "metadata": {},
   "outputs": [],
   "source": [
    "'{name}, {year}'.format(year=2017, name='Python')"
   ]
  },
  {
   "cell_type": "markdown",
   "metadata": {},
   "source": [
    "## 二、Python数据结构"
   ]
  },
  {
   "cell_type": "markdown",
   "metadata": {},
   "source": [
    "1.元组：\n",
    "\n",
    "一维、定长、不可变的对象序列\n",
    "\n",
    "　　　　创建元组\n",
    "\n",
    "　　　　转换为元组,list->tuple，string->tuple\n",
    "\n",
    "　　　　访问元组\n",
    "\n",
    "　　　　合并元祖\n",
    "\n",
    "　　拆包\n",
    "\n",
    "　　　　函数同时返回多个值\n",
    "\n",
    "　　　　元组列表迭代\n",
    "\n",
    "　　常用方法  count\n",
    "\n",
    "　　　　返回指定值的次数"
   ]
  },
  {
   "cell_type": "markdown",
   "metadata": {},
   "source": [
    "# .创建元组"
   ]
  },
  {
   "cell_type": "code",
   "execution_count": null,
   "metadata": {},
   "outputs": [],
   "source": [
    "tup1= 1, 2, 3\n",
    "print(tup1)\n",
    "\n",
    "#嵌套元组\n",
    "tup2 = (1, 2, 3), (4, 5)\n",
    "print(tup2)"
   ]
  },
  {
   "cell_type": "markdown",
   "metadata": {},
   "source": [
    "# .转换为元组， list->tuple, string->tuple"
   ]
  },
  {
   "cell_type": "code",
   "execution_count": null,
   "metadata": {},
   "outputs": [],
   "source": [
    "l = [1, 2, 3]\n",
    "print(tuple(l))\n",
    "\n",
    "str = \"Hello World\"\n",
    "print(tuple(str))"
   ]
  },
  {
   "cell_type": "markdown",
   "metadata": {},
   "source": [
    "# .访问元组"
   ]
  },
  {
   "cell_type": "code",
   "execution_count": null,
   "metadata": {},
   "outputs": [],
   "source": [
    "tup3 = tuple(str)\n",
    "print(tup3[4])"
   ]
  },
  {
   "cell_type": "markdown",
   "metadata": {},
   "source": [
    "# .合并元组"
   ]
  },
  {
   "cell_type": "code",
   "execution_count": null,
   "metadata": {},
   "outputs": [],
   "source": [
    "tup1 + tup3"
   ]
  },
  {
   "cell_type": "markdown",
   "metadata": {},
   "source": [
    "# .拆包"
   ]
  },
  {
   "cell_type": "code",
   "execution_count": null,
   "metadata": {},
   "outputs": [],
   "source": [
    "a, b, c = tup1\n",
    "print(b)"
   ]
  },
  {
   "cell_type": "code",
   "execution_count": null,
   "metadata": {},
   "outputs": [],
   "source": [
    "# 函数返回多个值\n",
    "def return_multiple():\n",
    "    t = (1, 2, 3)\n",
    "    return t\n",
    "\n",
    "a, _, c = return_multiple() #元组里面，如果不需要某个值的时候，可以用下划线代替，就是不需要这个值了\n",
    "print(c)"
   ]
  },
  {
   "cell_type": "code",
   "execution_count": null,
   "metadata": {},
   "outputs": [],
   "source": [
    "# 元组列表迭代\n",
    "tuple_list = [(1, 2), (3, 4), (5, 6)]\n",
    "for x, y in tuple_list:\n",
    "    print(x+y)"
   ]
  },
  {
   "cell_type": "markdown",
   "metadata": {},
   "source": [
    "# .count 方法"
   ]
  },
  {
   "cell_type": "code",
   "execution_count": null,
   "metadata": {},
   "outputs": [],
   "source": [
    "tup3.count('o')"
   ]
  },
  {
   "cell_type": "markdown",
   "metadata": {},
   "source": [
    "# 列表"
   ]
  },
  {
   "cell_type": "markdown",
   "metadata": {},
   "source": [
    "变长，可变\n",
    "\n",
    "　　创建列表　　[]\n",
    "\n",
    "　　转换为列表,tuple->list\n",
    "\n",
    "　　添加、移除元素，append，insert,pop,remove\n",
    "\n",
    "　　合并列表+，extend\n",
    "\n",
    "　　排序sort操作(注：就地排序，无需创建新的对象)　　结果不包含stop_idx的元素\n"
   ]
  },
  {
   "cell_type": "markdown",
   "metadata": {},
   "source": [
    "## .创建列表"
   ]
  },
  {
   "cell_type": "code",
   "execution_count": null,
   "metadata": {},
   "outputs": [],
   "source": [
    "lst_1 = [1, 2, 3, 'a', 'b', (4, 5)]\n",
    "print(lst_1)\n",
    "\n",
    "lst_2 = list(range(1, 9))\n",
    "print(lst_2)"
   ]
  },
  {
   "cell_type": "markdown",
   "metadata": {},
   "source": [
    "# .转换为列表,tuple->list"
   ]
  },
  {
   "cell_type": "code",
   "execution_count": null,
   "metadata": {},
   "outputs": [],
   "source": [
    "lst_3 = list(tup3)\n",
    "print(lst_3)"
   ]
  },
  {
   "cell_type": "markdown",
   "metadata": {},
   "source": [
    "# .添加、移除元素"
   ]
  },
  {
   "cell_type": "code",
   "execution_count": null,
   "metadata": {},
   "outputs": [],
   "source": [
    "lst_4 = list(range(10))\n",
    "\n",
    "#末尾添加\n",
    "lst_4.append(11)\n",
    "print(lst_4)\n",
    "\n",
    "# 指定位置插入\n",
    "lst_4.insert(5, 12)\n",
    "print(lst_4)\n"
   ]
  },
  {
   "cell_type": "code",
   "execution_count": null,
   "metadata": {},
   "outputs": [],
   "source": [
    "#删除指定位置的元素并返回\n",
    "item = lst_4.pop(6)\n",
    "print(item)\n",
    "print(lst_4)"
   ]
  },
  {
   "cell_type": "code",
   "execution_count": null,
   "metadata": {},
   "outputs": [],
   "source": [
    "#删除指定的值，注意12在这里是“值”，不是“位置”\n",
    "lst_4.remove(12)\n",
    "print(lst_4)"
   ]
  },
  {
   "cell_type": "markdown",
   "metadata": {},
   "source": [
    "# .合并列表"
   ]
  },
  {
   "cell_type": "code",
   "execution_count": null,
   "metadata": {},
   "outputs": [],
   "source": [
    "lst_3 = lst_1 + lst_2\n",
    "print(lst_3)\n",
    "\n",
    "lst_1.extend(lst_2)\n",
    "print(lst_1)"
   ]
  },
  {
   "cell_type": "markdown",
   "metadata": {},
   "source": [
    "# .排序操作"
   ]
  },
  {
   "cell_type": "code",
   "execution_count": null,
   "metadata": {},
   "outputs": [],
   "source": [
    "import random\n",
    "lst_5 = list(range(10))\n",
    "random.shuffle(lst_5)\n",
    "print(lst_5)"
   ]
  },
  {
   "cell_type": "code",
   "execution_count": null,
   "metadata": {},
   "outputs": [],
   "source": [
    "lst_5.sort() #sort就地排序，没有创建新的对象\n",
    "print(lst_5)\n",
    "\n",
    "lst_5.sort(reverse=True)\n",
    "print(lst_5)"
   ]
  },
  {
   "cell_type": "code",
   "execution_count": null,
   "metadata": {},
   "outputs": [],
   "source": [
    "lst_6 = ['Welcome', 'to', 'Python', 'Data', 'Analysis', 'Course'] #//按照字典顺序进行排序\n",
    "lst_6.sort()\n",
    "print(lst_6)"
   ]
  },
  {
   "cell_type": "code",
   "execution_count": null,
   "metadata": {},
   "outputs": [],
   "source": [
    "lst_6.sort(key = len, reverse=True) #key = len：指定排序方式按照元素的长度；reverse=True：逆序，元素长度从长到短排序。\n",
    "print(lst_6)"
   ]
  },
  {
   "cell_type": "markdown",
   "metadata": {},
   "source": [
    "# .切片操作 [start_idx : stop_idx : step]\n",
    "# 注意：结果不包含stop_idx元素"
   ]
  },
  {
   "cell_type": "code",
   "execution_count": null,
   "metadata": {},
   "outputs": [],
   "source": [
    "print(lst_5)    #[0,1,2,3,4,5,6,7,8,9]\n",
    "print(lst_5[1:5])    #[1,2,3,4]末尾的序列号是不包含在里面的，所以只是输出[1,2,3,4]\n",
    "print(lst_5[5:])    #[5,6,7,8,9],从5直接输出到末尾的\n",
    "\n",
    "print(lst_5[:5])   #[0,1,2,3,4]输出从第一个元素到最后一个元素，不包括最后一个元素\n",
    "\n",
    "print(lst_5[-5:])    #[5,6,7,8,9],从倒数第五个元素输出到最后一个元素\n",
    "print(lst_5[-5:-2])    #[5,6,7]从倒数第五个元素输出到倒数第二个元素，不包括倒数第二个元素\n",
    "print(lst_5[::2])    #[0,2,4,6,8],从0开始输出元素，步长为2\n",
    "print(lst_5[::-1])    #[9,8,7,6,5,4,3,2,1,0]倒序输出所有的元素"
   ]
  },
  {
   "cell_type": "markdown",
   "metadata": {},
   "source": [
    "# .常用序列函数\n",
    "<font size=4>.&ensp;enumerate,for循环时记录索引，逐个返回元组(i, item),i是元素的索引号，item是元素</font>  \n",
    "<font size=4>.&ensp;sorted 返回新的有序列表，区别：list中的sort()是就地排序</font>  \n",
    "<font size=4>.&ensp;zip \"压缩\"将多个序列的对应位置的元素组成元组</font>  \n",
    "<font size=4>.&ensp;zip(*元组列表） \"解压缩\"，zip的逆操作</font>  \n",
    "<font size=4>.&ensp;reversed 逆序迭代，可配合list返回逆序列表</font>  "
   ]
  },
  {
   "cell_type": "markdown",
   "metadata": {},
   "source": [
    "# .enumerate"
   ]
  },
  {
   "cell_type": "code",
   "execution_count": null,
   "metadata": {},
   "outputs": [],
   "source": [
    "lst_6 = ['Welcome', 'to', 'Python', 'Data', 'Analysis', 'Course'] #(0, 'Welcome')\n",
    "for i, item in enumerate(lst_6): #拆包操作，拿到i和值拿到\n",
    "    print(\"%i-%s\" %(i, item))"
   ]
  },
  {
   "cell_type": "code",
   "execution_count": null,
   "metadata": {},
   "outputs": [],
   "source": [
    "str_dict = dict((i, item) for i, item in enumerate(lst_6))\n",
    "print(str_dict)"
   ]
  },
  {
   "cell_type": "markdown",
   "metadata": {},
   "source": [
    "# .sorted"
   ]
  },
  {
   "cell_type": "code",
   "execution_count": null,
   "metadata": {},
   "outputs": [],
   "source": [
    "import random\n",
    "lst_5 = list(range(10))\n",
    "random.shuffle(lst_5)\n",
    "print(lst_5)\n",
    "\n",
    "#sorted\n",
    "lst_5_sorted = sorted(lst_5)\n",
    "print(lst_5)\n",
    "print(lst_5_sorted)"
   ]
  },
  {
   "cell_type": "markdown",
   "metadata": {},
   "source": [
    "# .zip"
   ]
  },
  {
   "cell_type": "code",
   "execution_count": null,
   "metadata": {},
   "outputs": [],
   "source": [
    "lst_6 = ['Welcome', 'to', 'Python', 'Data', 'Analysis', 'Course']\n",
    "lst_7 = list(range(5)) #[0, 1, 2, 3, 4]\n",
    "lst_8 = ['a', 'b', 'c']\n",
    "zip_lst = zip(lst_6, lst_8, lst_7)\n",
    "print(list(zip_lst))"
   ]
  },
  {
   "cell_type": "markdown",
   "metadata": {},
   "source": [
    "# .zip * 解压缩"
   ]
  },
  {
   "cell_type": "code",
   "execution_count": null,
   "metadata": {},
   "outputs": [],
   "source": [
    "lst_6 = ['Welcome', 'to', 'Python', 'Data', 'Analysis', 'Course']\n",
    "lst_7 = list(range(5)) #[0, 1, 2, 3, 4]\n",
    "lst_8 = ['a', 'b', 'c']\n",
    "zip_lst = zip(lst_6, lst_8, lst_7)\n",
    "\n",
    "print(list(zip(*zip_lst)))"
   ]
  },
  {
   "cell_type": "code",
   "execution_count": null,
   "metadata": {},
   "outputs": [],
   "source": [
    "list(reversed(lst_6))"
   ]
  },
  {
   "cell_type": "markdown",
   "metadata": {},
   "source": [
    "# 字典 dict\n",
    "## . {key1:value1, key2:value2}\n",
    "## . 创建字典\n",
    "## . 插入元素\n",
    "### &emsp;dict_variable[new_key] = new_value\n",
    "## . 删除元素\n",
    "### &emsp;del 或 pop\n",
    "## . 获取键、值列表\n",
    "### &emsp;keys(), values()\n",
    "## . 合并字典\n",
    "### &emsp;update()\n",
    "## . 通过多个列表创建字典\n",
    "## . 哪些可做\"键\"\n",
    "### &emsp;. 整数、浮点数、字符串或元组\n",
    "### &emsp;. 可\"哈希\"的对象，hash\n",
    "# 集合 set\n",
    "## . 创建集合 {}\n",
    "## . 集合操作，交、并、差、异或"
   ]
  },
  {
   "cell_type": "markdown",
   "metadata": {},
   "source": [
    "## <font face=\"微软宋体\" size='1'>. 创建字典</font>"
   ]
  },
  {
   "cell_type": "code",
   "execution_count": null,
   "metadata": {},
   "outputs": [],
   "source": [
    "empty_dict = {}\n",
    "dict1 = {'a':1, 2:'b', '3':[1, 2, 3]}\n",
    "print(empty_dict)\n",
    "print(dict1)"
   ]
  },
  {
   "cell_type": "markdown",
   "metadata": {},
   "source": [
    "## <font face=\"微软宋体\" size='1'>. 插入元素</font>"
   ]
  },
  {
   "cell_type": "code",
   "execution_count": null,
   "metadata": {},
   "outputs": [],
   "source": [
    "dict1[4] = (4, 5)\n",
    "print(dict1)"
   ]
  },
  {
   "cell_type": "markdown",
   "metadata": {},
   "source": [
    "## <font face=\"微软宋体\" size='1'>. 删除元素</font>"
   ]
  },
  {
   "cell_type": "code",
   "execution_count": null,
   "metadata": {},
   "outputs": [],
   "source": [
    "del dict1[2]\n",
    "print(dict1)"
   ]
  },
  {
   "cell_type": "code",
   "execution_count": null,
   "metadata": {},
   "outputs": [],
   "source": [
    "a_value = dict1.pop('a')\n",
    "print(a_value)\n",
    "print(dict1)"
   ]
  },
  {
   "cell_type": "markdown",
   "metadata": {},
   "source": [
    "## <font face=\"微软宋体\" size='1'>. 获取键、值列表</font>"
   ]
  },
  {
   "cell_type": "code",
   "execution_count": null,
   "metadata": {},
   "outputs": [],
   "source": [
    "print(dict1.keys())\n",
    "print(dict1.values())"
   ]
  },
  {
   "cell_type": "code",
   "execution_count": null,
   "metadata": {},
   "outputs": [],
   "source": [
    "dict_val = {'name' : 'Zara', 'Age' : 7, 'Class' : 'First'}\n",
    "print(dict_val.keys())\n",
    "print(type(dict_val.keys()))"
   ]
  },
  {
   "cell_type": "code",
   "execution_count": null,
   "metadata": {},
   "outputs": [],
   "source": [
    "for key in dict_val.keys():\n",
    "    print('{}---{}'.format(key, type(key)))"
   ]
  },
  {
   "cell_type": "code",
   "execution_count": null,
   "metadata": {},
   "outputs": [],
   "source": [
    "print(dict_val.values())\n",
    "print(type(dict_val.values()))"
   ]
  },
  {
   "cell_type": "code",
   "execution_count": null,
   "metadata": {},
   "outputs": [],
   "source": [
    "for value in dict_val.values():\n",
    "    print('{}---{}'.format(value, type(value)))"
   ]
  },
  {
   "cell_type": "code",
   "execution_count": null,
   "metadata": {},
   "outputs": [],
   "source": [
    "print(dict_val.items())\n",
    "print(type(dict_val.items()))"
   ]
  },
  {
   "cell_type": "code",
   "execution_count": null,
   "metadata": {},
   "outputs": [],
   "source": [
    "for item in dict_val.items():\n",
    "    print('{}---{}'.format(item, type(item)))"
   ]
  },
  {
   "cell_type": "markdown",
   "metadata": {},
   "source": [
    "## <font face=\"微软宋体\" size='1'>. 合并字典</font>"
   ]
  },
  {
   "cell_type": "code",
   "execution_count": null,
   "metadata": {},
   "outputs": [],
   "source": [
    "dict2 = {4:'new1', 5:'news'}\n",
    "dict1.update(dict2)\n",
    "print(dict1)"
   ]
  },
  {
   "cell_type": "markdown",
   "metadata": {},
   "source": [
    "## <font face=\"微软宋体\" size='1'>. 通过多个列表创建字典</font>"
   ]
  },
  {
   "cell_type": "code",
   "execution_count": null,
   "metadata": {},
   "outputs": [],
   "source": [
    "# 普通方法\n",
    "dict_3 = {}\n",
    "l1 = range(10)\n",
    "l2 = list(reversed(range(10)))\n",
    "for i1, i2 in zip(l1, l2):\n",
    "    dict_3[i1] = i2\n",
    "print(dict_3)"
   ]
  },
  {
   "cell_type": "code",
   "execution_count": null,
   "metadata": {},
   "outputs": [],
   "source": [
    "dict_4 = dict(zip(l1, l2))\n",
    "print(dict_4)"
   ]
  },
  {
   "cell_type": "markdown",
   "metadata": {},
   "source": [
    "## hash函数"
   ]
  },
  {
   "cell_type": "code",
   "execution_count": null,
   "metadata": {},
   "outputs": [],
   "source": [
    "hash(12)"
   ]
  },
  {
   "cell_type": "code",
   "execution_count": null,
   "metadata": {},
   "outputs": [],
   "source": [
    "hash('test hash')"
   ]
  },
  {
   "cell_type": "code",
   "execution_count": null,
   "metadata": {},
   "outputs": [],
   "source": [
    "hash((1, 2, 3))"
   ]
  },
  {
   "cell_type": "code",
   "execution_count": null,
   "metadata": {},
   "outputs": [],
   "source": [
    "hash([1, 2, 3])"
   ]
  },
  {
   "cell_type": "markdown",
   "metadata": {},
   "source": [
    "## 集合 set"
   ]
  },
  {
   "cell_type": "code",
   "execution_count": null,
   "metadata": {},
   "outputs": [],
   "source": [
    "a = set(range(10))\n",
    "print(a)\n",
    "b = set(range(5, 15))\n",
    "print(b)"
   ]
  },
  {
   "cell_type": "markdown",
   "metadata": {},
   "source": [
    "## <font face=\"微软宋体\" size='1'>. 并、交、差、异或</font>"
   ]
  },
  {
   "cell_type": "code",
   "execution_count": null,
   "metadata": {},
   "outputs": [],
   "source": [
    "a | b"
   ]
  },
  {
   "cell_type": "code",
   "execution_count": null,
   "metadata": {},
   "outputs": [],
   "source": [
    "a & b"
   ]
  },
  {
   "cell_type": "code",
   "execution_count": null,
   "metadata": {},
   "outputs": [],
   "source": [
    "a - b"
   ]
  },
  {
   "cell_type": "code",
   "execution_count": null,
   "metadata": {},
   "outputs": [],
   "source": [
    "a ^ b"
   ]
  },
  {
   "cell_type": "markdown",
   "metadata": {},
   "source": [
    "## <font face=\"微软宋体\" size='1'>. 判断是否为子集、父集</font>"
   ]
  },
  {
   "cell_type": "code",
   "execution_count": null,
   "metadata": {},
   "outputs": [],
   "source": [
    "a.issubset(b)"
   ]
  },
  {
   "cell_type": "code",
   "execution_count": null,
   "metadata": {
    "scrolled": true
   },
   "outputs": [],
   "source": [
    "a.issuperset(b)"
   ]
  },
  {
   "cell_type": "markdown",
   "metadata": {},
   "source": [
    "# Python高级特性\n",
    "## 集合的推导式\n",
    "### . 列表推导式，使用一句表达式构造一个新列表，可包含过滤、转换等操作\n",
    "#### &emsp;&emsp;[exp for item in collection if condition]\n",
    "### . 字典推导式\n",
    "#### &emsp;&emsp;{key_exp : value_exp for item in collection if condition}\n",
    "### . 集合推导式\n",
    "#### &emsp;&emsp;{exp for item in collection if condition}\n",
    "### . 嵌套列表推导式\n",
    "#### &emsp;&emsp;按嵌套顺序理解\n",
    "## 函数列表\n",
    "### .&emsp;Python中皆对象\n",
    "### .&emsp;[fun1, fun2]\n",
    "## 匿名函数 lambda\n",
    "### .&emsp;没有函数名\n",
    "### .&emsp;单条语句组成\n",
    "### .&emsp;语句执行的结果就是返回值\n",
    "### .&emsp;可用作sort的key函数\n",
    "## 生成器 generator\n",
    "### .&emsp;构造可迭代对象\n",
    "### .&emsp;每次返回一个值，直到下次调用时，再继续。区别：函数每次返回一个值"
   ]
  },
  {
   "cell_type": "markdown",
   "metadata": {},
   "source": [
    "### . 列表推导式"
   ]
  },
  {
   "cell_type": "code",
   "execution_count": null,
   "metadata": {},
   "outputs": [],
   "source": [
    "%%timeit\n",
    "#普通方法\n",
    "result1 = []\n",
    "for i in range(10000):\n",
    "    if i%2 == 0:\n",
    "        result1.append(i)"
   ]
  },
  {
   "cell_type": "code",
   "execution_count": null,
   "metadata": {},
   "outputs": [],
   "source": [
    "%%timeit\n",
    "#列表推导法\n",
    "result2 = [i for i in range(10000) if i%2 == 0]"
   ]
  },
  {
   "cell_type": "code",
   "execution_count": null,
   "metadata": {},
   "outputs": [],
   "source": [
    "str_lst = ['Welcome', 'to', 'Python', 'Data', 'Analysis', 'Course']\n",
    "result3 = [x.upper() for x in str_lst if len(x) > 4]\n",
    "print(result3)"
   ]
  },
  {
   "cell_type": "markdown",
   "metadata": {},
   "source": [
    "### . 字典推导式"
   ]
  },
  {
   "cell_type": "code",
   "execution_count": null,
   "metadata": {},
   "outputs": [],
   "source": [
    "dict1 = {key : value for key, value in enumerate(reversed(range(10)))}\n",
    "print(dict1)"
   ]
  },
  {
   "cell_type": "markdown",
   "metadata": {},
   "source": [
    "### . 集合推导式"
   ]
  },
  {
   "cell_type": "code",
   "execution_count": null,
   "metadata": {
    "scrolled": true
   },
   "outputs": [],
   "source": [
    "set1 = {i for i in range(10)}\n",
    "print(set1)"
   ]
  },
  {
   "cell_type": "markdown",
   "metadata": {},
   "source": [
    "### . 嵌套推导式"
   ]
  },
  {
   "cell_type": "code",
   "execution_count": null,
   "metadata": {},
   "outputs": [],
   "source": [
    "lists = [list(range(10)), list(range(10, 20))]\n",
    "print(lists)"
   ]
  },
  {
   "cell_type": "code",
   "execution_count": null,
   "metadata": {},
   "outputs": [],
   "source": [
    "evens = [item for lst in lists for item in lst if item % 2 == 0]\n",
    "print(evens)"
   ]
  },
  {
   "cell_type": "markdown",
   "metadata": {},
   "source": [
    "## 多函数模式"
   ]
  },
  {
   "cell_type": "code",
   "execution_count": null,
   "metadata": {},
   "outputs": [],
   "source": [
    "#处理字符串\n",
    "str_lst = ['$1.123', ' $1123.454', '$899.12312']\n",
    "\n",
    "def remove_space(str):\n",
    "    \"\"\"\n",
    "        remove space\n",
    "    \"\"\"\n",
    "    str_no_space = str.replace(' ', '')\n",
    "    return str_no_space\n",
    "\n",
    "def remove_dollar(str):\n",
    "    \"\"\"\n",
    "        remove $\n",
    "    \"\"\"\n",
    "    if '$' in str:\n",
    "        return str.replace('$', '')\n",
    "    else:\n",
    "        return str\n",
    "\n",
    "def clean_str_lst(str_lst, operations):\n",
    "    \"\"\"\n",
    "        clean string list\n",
    "    \"\"\"\n",
    "    result = []\n",
    "    for item in str_lst:\n",
    "        for op in operations:\n",
    "            item = op(item)\n",
    "        result.append(item)\n",
    "    return result\n",
    "\n",
    "clean_operations = [remove_space, remove_dollar]\n",
    "result = clean_str_lst(str_lst, clean_operations)\n",
    "print(result)"
   ]
  },
  {
   "cell_type": "markdown",
   "metadata": {},
   "source": [
    "## 匿名函数 lambda"
   ]
  },
  {
   "cell_type": "code",
   "execution_count": null,
   "metadata": {},
   "outputs": [],
   "source": [
    "f = lambda x: x**2\n",
    "f(2)"
   ]
  },
  {
   "cell_type": "code",
   "execution_count": null,
   "metadata": {},
   "outputs": [],
   "source": [
    "str_lst = ['Welcome', 'to', 'Python', 'Data', 'Analysis', 'Course']\n",
    "str_lst.sort(key = lambda x:len(x)) # sort by length\n",
    "print(str_lst)\n",
    "\n",
    "str_lst.sort(key = lambda x: x[-1]) # sort by the last letter\n",
    "print(str_lst)"
   ]
  },
  {
   "cell_type": "markdown",
   "metadata": {},
   "source": [
    "## 生成器 generator"
   ]
  },
  {
   "cell_type": "code",
   "execution_count": null,
   "metadata": {},
   "outputs": [],
   "source": [
    "def gen_test():\n",
    "    for i in range(3):\n",
    "        yield i\n",
    "\n",
    "gen = gen_test() #此时不执行生成器\n",
    "type(gen)"
   ]
  },
  {
   "cell_type": "code",
   "execution_count": null,
   "metadata": {},
   "outputs": [],
   "source": [
    "for i in gen:\n",
    "    print(i)"
   ]
  },
  {
   "cell_type": "markdown",
   "metadata": {},
   "source": [
    "# Python高级函数\n",
    "## 函数式编程\n",
    "### . &emsp;函数本身可以赋值给变量。赋值后变量为函数\n",
    "### . &emsp;允许将函数本身作为参数传入另一个函数\n",
    "### . &emsp;允许返回一个函数\n",
    "## map/reduce\n",
    "### .&emsp;map(func, lst)，将传入的函数变量func作用到lst变量的每个元素中，并将结果组成新的列表返回\n",
    "### .&emsp;reduce(func(x,y), lst)，其中func必须有两个参数。每次func计算的结果继续和序列的下一个元素做累积计算\n",
    "#### &emsp;.&emsp;lst = [a1, a2, a3, ..., an]\n",
    "#### &emsp;.&emsp;reduce(func(x,y), lst)\n",
    "#### &emsp;&emsp;&emsp;=&emsp;func(func(func(a1, a2), a3), ..., an)\n",
    "## filter\n",
    "### .&emsp;筛选序列\n",
    "### .&emsp;filter(func, lst)，将func作用于lst的每一个元素，然后根据返回值是True或False判断是保留还是丢弃该元素。\n",
    "### map，reduce和filter中的函数变量均可以是匿名函数"
   ]
  },
  {
   "cell_type": "markdown",
   "metadata": {},
   "source": [
    "## 函数式编程\n",
    "\n",
    "## .&emsp;<font face=\"微软宋体\" size='3'>函数本身也可以赋值给变量</font>"
   ]
  },
  {
   "cell_type": "code",
   "execution_count": null,
   "metadata": {},
   "outputs": [],
   "source": [
    "import math\n",
    "math.sqrt(25)"
   ]
  },
  {
   "cell_type": "code",
   "execution_count": null,
   "metadata": {},
   "outputs": [],
   "source": [
    "math.sqrt"
   ]
  },
  {
   "cell_type": "code",
   "execution_count": null,
   "metadata": {},
   "outputs": [],
   "source": [
    "fun = math.sqrt\n",
    "fun"
   ]
  },
  {
   "cell_type": "code",
   "execution_count": null,
   "metadata": {},
   "outputs": [],
   "source": [
    "fun(10)"
   ]
  },
  {
   "cell_type": "markdown",
   "metadata": {},
   "source": [
    "## <font face=\"微软宋体\" size='3'>将函数作为参数</font>"
   ]
  },
  {
   "cell_type": "code",
   "execution_count": null,
   "metadata": {},
   "outputs": [],
   "source": [
    "def func_add(x, y, f):\n",
    "    \"\"\"\n",
    "        functional addition\n",
    "    \"\"\"\n",
    "    return f(x) + f(y)\n",
    "\n",
    "print(func_add(4, 25, math.sqrt))\n",
    "print(func_add(-4, 25, abs))"
   ]
  },
  {
   "cell_type": "markdown",
   "metadata": {},
   "source": [
    "## map/reduce\n",
    "\n",
    "## .&emsp;<font face=\"微软宋体\" size='3'>map</font>"
   ]
  },
  {
   "cell_type": "code",
   "execution_count": null,
   "metadata": {
    "scrolled": true
   },
   "outputs": [],
   "source": [
    "x_2_lst = [x**2 for x in range(10)]\n",
    "print(x_2_lst)\n",
    "\n",
    "x_sqrt_lst = map(math.sqrt, x_2_lst)\n",
    "print(list(x_sqrt_lst))\n",
    "\n",
    "x_2_float_lst = map(float, x_2_lst)\n",
    "print(list(x_2_float_lst))\n",
    "\n",
    "x_2_str_lst = map(str, x_2_lst)\n",
    "print(list(x_2_str_lst))"
   ]
  },
  {
   "cell_type": "markdown",
   "metadata": {},
   "source": [
    "## &emsp;.&emsp;<font face=\"微软宋体\" size='3'>reduce</font>"
   ]
  },
  {
   "cell_type": "code",
   "execution_count": null,
   "metadata": {},
   "outputs": [],
   "source": [
    "from functools import reduce\n",
    "str_lst = map(str, range(5))\n",
    "def make_sum(str1, str2):\n",
    "    return int(str1) * 10 + int(str2)\n",
    "result = reduce(make_sum, str_lst)\n",
    "print(list(str_lst))\n",
    "print(result)"
   ]
  },
  {
   "cell_type": "markdown",
   "metadata": {},
   "source": [
    "<font face=\"微软宋体\" size='3'>规范字符串</font>"
   ]
  },
  {
   "cell_type": "code",
   "execution_count": null,
   "metadata": {},
   "outputs": [],
   "source": [
    "name_lst = ['poNNY MA', 'rOBIN li', 'steve JOBS', 'bILL gates']\n",
    "standard_name_lst = map(str.title, name_lst)\n",
    "print(list(standard_name_lst))"
   ]
  },
  {
   "cell_type": "markdown",
   "metadata": {},
   "source": [
    "## filter"
   ]
  },
  {
   "cell_type": "code",
   "execution_count": null,
   "metadata": {},
   "outputs": [],
   "source": [
    "number_lst = range(-10, 10)\n",
    "def is_negative(x):\n",
    "    return x < 0\n",
    "\n",
    "filtered_lst = filter(is_negative, number_lst)\n",
    "print(list(number_lst))\n",
    "print(list(filtered_lst))"
   ]
  },
  {
   "cell_type": "markdown",
   "metadata": {},
   "source": [
    "## map reduce filter 与匿名函数\n",
    "\n",
    "## &emsp;.&emsp;<font face=\"微软宋体\" size='3'>map与匿名函数</font>"
   ]
  },
  {
   "cell_type": "code",
   "execution_count": null,
   "metadata": {
    "scrolled": true
   },
   "outputs": [],
   "source": [
    "x_lst = range(10)\n",
    "result_lst = map(lambda item: item ** 2 + item ** 3, x_lst)\n",
    "print(list(x_lst))\n",
    "print(list(result_lst))"
   ]
  },
  {
   "cell_type": "markdown",
   "metadata": {},
   "source": [
    "## &emsp;.&emsp;<font face=\"微软宋体\" size='3'>reduce与匿名函数</font>"
   ]
  },
  {
   "cell_type": "code",
   "execution_count": null,
   "metadata": {},
   "outputs": [],
   "source": [
    "x_lst = range(1, 5)\n",
    "product = reduce(lambda x, y: x*y, x_lst)\n",
    "print(list(x_lst))\n",
    "print(product)"
   ]
  },
  {
   "cell_type": "markdown",
   "metadata": {},
   "source": [
    "## &emsp;.&emsp;<font face=\"微软宋体\" size='3'>filter与匿名函数</font>"
   ]
  },
  {
   "cell_type": "code",
   "execution_count": null,
   "metadata": {},
   "outputs": [],
   "source": [
    "number_lst = range(-10,10)\n",
    "filtered_lst = filter(lambda x: x < 0, number_lst)\n",
    "print(list(number_lst))\n",
    "print(list(filtered_lst))"
   ]
  }
 ],
 "metadata": {
  "kernelspec": {
   "display_name": "Python 3",
   "language": "python",
   "name": "python3"
  },
  "language_info": {
   "codemirror_mode": {
    "name": "ipython",
    "version": 3
   },
   "file_extension": ".py",
   "mimetype": "text/x-python",
   "name": "python",
   "nbconvert_exporter": "python",
   "pygments_lexer": "ipython3",
   "version": "3.6.4"
  }
 },
 "nbformat": 4,
 "nbformat_minor": 2
}
