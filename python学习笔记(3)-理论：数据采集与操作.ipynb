{
 "cells": [
  {
   "cell_type": "markdown",
   "metadata": {},
   "source": [
    "<img style=\"float:center;\" src=\"./img/dataacquisition_review.png\">"
   ]
  },
  {
   "cell_type": "markdown",
   "metadata": {},
   "source": [
    "<img style=\"float:center;\" src=\"./img/dataacquisition_outline.png\">"
   ]
  },
  {
   "cell_type": "markdown",
   "metadata": {},
   "source": [
    "<img style=\"float:center;\" src=\"./img/dataacquisition_fileformat.png\">"
   ]
  },
  {
   "cell_type": "markdown",
   "metadata": {},
   "source": [
    "<img style=\"float:left;\" src=\"./img/dataacquisition_txtfile.png\">"
   ]
  },
  {
   "cell_type": "markdown",
   "metadata": {},
   "source": [
    "## txt文件操作\n",
    "* ### 读取全部内容"
   ]
  },
  {
   "cell_type": "code",
   "execution_count": null,
   "metadata": {},
   "outputs": [],
   "source": [
    "txt_filename = './files/python_baidu.txt'\n",
    "\n",
    "#打开文件\n",
    "file_obj = open(txt_filename, 'r', encoding='utf-8')\n",
    "\n",
    "#读取整个文件内容\n",
    "all_content = file_obj.read()\n",
    "\n",
    "#关闭文件\n",
    "file_obj.close()\n",
    "\n",
    "print(all_content)"
   ]
  },
  {
   "cell_type": "markdown",
   "metadata": {},
   "source": [
    "* ### 读取全部内容"
   ]
  },
  {
   "cell_type": "code",
   "execution_count": null,
   "metadata": {},
   "outputs": [],
   "source": [
    "txt_filename = './files/python_baidu.txt'\n",
    "\n",
    "#打开文件\n",
    "file_obj = open(txt_filename, 'r', encoding='utf-8')\n",
    "\n",
    "#逐行读取\n",
    "line1 = file_obj.readline()\n",
    "\n",
    "print(line1)"
   ]
  },
  {
   "cell_type": "code",
   "execution_count": null,
   "metadata": {},
   "outputs": [],
   "source": [
    "#继续读下一行\n",
    "line2 = file_obj.readline()\n",
    "print(line2)\n",
    "\n",
    "#关闭文件\n",
    "file_obj.close()"
   ]
  },
  {
   "cell_type": "markdown",
   "metadata": {},
   "source": [
    "* ### 读取全部内容，返回列表"
   ]
  },
  {
   "cell_type": "code",
   "execution_count": null,
   "metadata": {},
   "outputs": [],
   "source": [
    "txt_filename = './files/python_baidu.txt'\n",
    "\n",
    "#打开文件\n",
    "file_obj = open(txt_filename, 'r', encoding='utf-8')\n",
    "\n",
    "#读取整个文件内容\n",
    "lines = file_obj.readlines()\n",
    "\n",
    "for i, line in enumerate(lines):\n",
    "    print('{}: {}'.format(i, line))\n",
    "#关闭文件\n",
    "file_obj.close()"
   ]
  },
  {
   "cell_type": "markdown",
   "metadata": {},
   "source": [
    "* ### 写操作"
   ]
  },
  {
   "cell_type": "code",
   "execution_count": null,
   "metadata": {},
   "outputs": [],
   "source": [
    "txt_filename = './files/test_write.txt'\n",
    "\n",
    "#打开文件\n",
    "file_obj = open(txt_filename, 'w', encoding='utf-8')\n",
    "\n",
    "#写入全部内容\n",
    "file_obj.write(\"《Python 数据分析》\")\n",
    "file_obj.close()"
   ]
  },
  {
   "cell_type": "code",
   "execution_count": null,
   "metadata": {},
   "outputs": [],
   "source": [
    "txt_filename = './files/test_write.txt'\n",
    "\n",
    "#打开文件\n",
    "file_obj = open(txt_filename, 'w', encoding='utf-8')\n",
    "\n",
    "#写入全字符串列表\n",
    "lines = ['这是第%i行\\n' %n for n i range(100)]\n",
    "file_obj.writelines(lines)\n",
    "file_obj.close()"
   ]
  },
  {
   "cell_type": "markdown",
   "metadata": {},
   "source": [
    "<img style=\"float:left;\" src=\"./img/dataacquisition_txtfile_2.png\">"
   ]
  },
  {
   "cell_type": "markdown",
   "metadata": {},
   "source": [
    "* ### with语句"
   ]
  },
  {
   "cell_type": "code",
   "execution_count": null,
   "metadata": {},
   "outputs": [],
   "source": [
    "txt_filename = './files/test_write.txt'\n",
    "with open(txt_filename, 'r', encoding='utf-8') as f_obj:\n",
    "    print(f_obj.read())"
   ]
  },
  {
   "cell_type": "markdown",
   "metadata": {},
   "source": [
    "<img style=\"float:center;\" src=\"./img/dataacquisition_csvfile.png\">"
   ]
  },
  {
   "cell_type": "markdown",
   "metadata": {},
   "source": [
    "## CSV  \n",
    "\n",
    "* ### pandas读取csv"
   ]
  },
  {
   "cell_type": "code",
   "execution_count": null,
   "metadata": {},
   "outputs": [],
   "source": [
    "import pandas as pd\n",
    "filename = './files/gender_country.csv'\n",
    "df = pd.read_csv(filename, encoding='utf-8')\n",
    "\n",
    "print(type(df))\n",
    "print(df.head())"
   ]
  },
  {
   "cell_type": "markdown",
   "metadata": {},
   "source": [
    "<img style=\"float:left;\" src=\"./img/dataacquisition_pandas_se.png\">"
   ]
  },
  {
   "cell_type": "markdown",
   "metadata": {},
   "source": [
    "* ### series"
   ]
  },
  {
   "cell_type": "code",
   "execution_count": null,
   "metadata": {},
   "outputs": [],
   "source": [
    "country_se = df['国家']\n",
    "print(type(country_se))\n",
    "print(country_se.head())"
   ]
  },
  {
   "cell_type": "markdown",
   "metadata": {},
   "source": [
    "* ### pandas写csv"
   ]
  },
  {
   "cell_type": "code",
   "execution_count": null,
   "metadata": {},
   "outputs": [],
   "source": [
    "filename = './files/pandas_output.csv'\n",
    "#pd.to_csv(filename)\n",
    "pd.to_csv(filename, index = None, encoding='utf-8')"
   ]
  },
  {
   "cell_type": "markdown",
   "metadata": {},
   "source": [
    "<img style=\"float:center;\" src=\"./img/dataacquisition_jsonfile.png\">"
   ]
  },
  {
   "cell_type": "markdown",
   "metadata": {},
   "source": [
    "<img style=\"float:left;\" src=\"./img/dataacquisition_jsonfile_2.png\">"
   ]
  },
  {
   "cell_type": "markdown",
   "metadata": {},
   "source": [
    "## JSON  \n",
    "\n",
    "* ### 读取数据"
   ]
  },
  {
   "cell_type": "code",
   "execution_count": null,
   "metadata": {},
   "outputs": [],
   "source": [
    "import json\n",
    "filename = './data/global_temperature.json'\n",
    "with open(filename, 'r', encoding='utf-8') as f_obj:\n",
    "   json_data = json.load(f_obj)\n",
    "\n",
    "#返回值是dict类型\n",
    "print(type(json_data))"
   ]
  },
  {
   "cell_type": "code",
   "execution_count": null,
   "metadata": {},
   "outputs": [],
   "source": [
    "print(json_data.keys())"
   ]
  },
  {
   "cell_type": "markdown",
   "metadata": {},
   "source": [
    "* ### JSON转CSV"
   ]
  },
  {
   "cell_type": "code",
   "execution_count": null,
   "metadata": {},
   "outputs": [],
   "source": [
    "print(json_data['data'].values())"
   ]
  },
  {
   "cell_type": "code",
   "execution_count": null,
   "metadata": {},
   "outputs": [],
   "source": [
    "#转换key\n",
    "year_str_lst = json_data['data'].keys()\n",
    "year_lst = [int(year_str) for year_str in year_str_lst]\n",
    "print(year_lst)"
   ]
  },
  {
   "cell_type": "code",
   "execution_count": null,
   "metadata": {},
   "outputs": [],
   "source": [
    "#转换value\n",
    "temp_str_lst = json_data['data'].values()\n",
    "temp_lst = [float(temp_str) for temp_str in temp_str_lst]\n",
    "print(temp_lst)"
   ]
  },
  {
   "cell_type": "code",
   "execution_count": null,
   "metadata": {},
   "outputs": [],
   "source": [
    "import pandas as pd\n",
    "\n",
    "#构建dataframe\n",
    "year_se = pd.Series(year_lst, name = 'year')\n",
    "temp_se = pd.Series(temp_lst, name = 'temperature')\n",
    "result_df = pd.concat([year_se, temp_se], axis = 1)\n",
    "print(result_df)\n",
    "#保存csv\n",
    "result_df.to_csv('./files/json_to_csv.csv', index = None)\n",
    "\n",
    "# l = {'name':year_lst, 'temperature':temp_lst}\n",
    "# df = pd.DataFrame(l)\n",
    "# print(df)"
   ]
  },
  {
   "cell_type": "markdown",
   "metadata": {},
   "source": [
    "* ### 写json数据"
   ]
  },
  {
   "cell_type": "code",
   "execution_count": null,
   "metadata": {},
   "outputs": [],
   "source": [
    "book_dict = [{\"书名\":\"无声告白\", \"作者\":\"伍绮诗\"},{\"书名\":\"我不是潘金莲\", \"作者\":\"刘震云\"}]\n",
    "\n",
    "filename = './files/json_out_put.json'\n",
    "with open(filename, 'w', encoding='utf-8') as f_obj:\n",
    "    f_obj.write(json.dumps(book_dict, ensure_ascii=False))"
   ]
  },
  {
   "cell_type": "markdown",
   "metadata": {},
   "source": [
    "<img style=\"float:center;\" src=\"./img/dataacquisition_xlsfile.png\">"
   ]
  },
  {
   "cell_type": "markdown",
   "metadata": {},
   "source": [
    " \n",
    " \n",
    " \n",
    " \n",
    " "
   ]
  },
  {
   "cell_type": "markdown",
   "metadata": {},
   "source": [
    "<img style=\"float:center;\" src=\"./img/dataacquisition_SQLite_1.png\">"
   ]
  },
  {
   "cell_type": "markdown",
   "metadata": {},
   "source": [
    "<img style=\"float:center;\" src=\"./img/dataacquisition_SQLite_2.png\">"
   ]
  },
  {
   "cell_type": "markdown",
   "metadata": {},
   "source": [
    "<img style=\"float:center;\" src=\"./img/dataacquisition_SQLite_3.png\">"
   ]
  },
  {
   "cell_type": "markdown",
   "metadata": {},
   "source": [
    "## SQLite基本操作  \n",
    "\n",
    "* ### 连接数据库"
   ]
  },
  {
   "cell_type": "code",
   "execution_count": null,
   "metadata": {},
   "outputs": [],
   "source": [
    "import sqlite3\n",
    "\n",
    "db_path = './files/test.sqlite'\n",
    "conn = sqlite3.connect(db_path)\n",
    "cur = conn.cursor()\n",
    "conn.text_factory = str #处理中文"
   ]
  },
  {
   "cell_type": "markdown",
   "metadata": {},
   "source": [
    "* ### 获取基本信息"
   ]
  },
  {
   "cell_type": "code",
   "execution_count": null,
   "metadata": {},
   "outputs": [],
   "source": [
    "cur.execute('SELECT SQLITE_VERSION()')\n",
    "print('SQLite版本：', str(cur.fetchone()[0]))"
   ]
  },
  {
   "cell_type": "markdown",
   "metadata": {},
   "source": [
    "* ### 逐条插入数据"
   ]
  },
  {
   "cell_type": "code",
   "execution_count": null,
   "metadata": {},
   "outputs": [],
   "source": [
    "cur.execute(\"DROP TABLE IF EXISTS book\")\n",
    "cur.execute(\"CREATE TABLE book(id INT, name TEXT, price DOUBLE)\")\n",
    "cur.execute(\"INSERT INTO book VALUES(1,'windows 2000编程技术内幕',88.80)\")\n",
    "cur.execute(\"INSERT INTO book VALUES(2,'新大学英语词汇', 24.80)\")\n",
    "cur.execute(\"INSERT INTO book VALUES(3,'半生为人',35.00)\")\n",
    "cur.execute(\"INSERT INTO book VALUES(4,'问道者',38.00)\")\n",
    "cur.execute(\"INSERT INTO book VALUES(5,'价值的理由',35.00)\")\n",
    "cur.execute(\"INSERT INTO book VALUES(6,'乡关何处',32.00)\")\n",
    "cur.execute(\"INSERT INTO book VALUES(7,'旧山河',35.00)\")\n",
    "cur.execute(\"INSERT INTO book VALUES(8,'人类简史',68.00)\")"
   ]
  },
  {
   "cell_type": "markdown",
   "metadata": {},
   "source": [
    "* ### 批量插入数据"
   ]
  },
  {
   "cell_type": "code",
   "execution_count": null,
   "metadata": {},
   "outputs": [],
   "source": [
    "books = (\n",
    "    (9, '人间草本', 30.00),\n",
    "    (10, '你的善良必须有点锋芒', 20.50),\n",
    "    (11, '这么慢，那么美', 24.80),\n",
    "    (12, '考拉小巫的英语学习日记', 23.90)\n",
    ")\n",
    "cur.executemany(\"INSERT INTO book VALUES(?, ?, ?)\", books)"
   ]
  },
  {
   "cell_type": "code",
   "execution_count": null,
   "metadata": {},
   "outputs": [],
   "source": [
    "conn.commit()"
   ]
  },
  {
   "cell_type": "markdown",
   "metadata": {},
   "source": [
    "* ### 查找数据"
   ]
  },
  {
   "cell_type": "code",
   "execution_count": null,
   "metadata": {},
   "outputs": [],
   "source": [
    "cur.execute('SELECT * FROM book')\n",
    "rows = cur.fetchall()\n",
    "#row = cur.fetchone()\n",
    "\n",
    "# 通过索引号访问\n",
    "for row in rows:\n",
    "    print('序号: {}，书名: {}, 价格: {}'.format(row[0], row[1], row[2]))"
   ]
  },
  {
   "cell_type": "code",
   "execution_count": null,
   "metadata": {},
   "outputs": [],
   "source": [
    "conn.row_factory = sqlite3.Row\n",
    "cur = conn.cursor()\n",
    "cur.execute('SELECT * FROM book')\n",
    "rows = cur.fetchall()\n",
    "\n",
    "# 通过列名访问\n",
    "for row in rows:\n",
    "    print('序号: {}，书名: {}, 价格: {}'.format(row['id'], row['name'], row['price']))"
   ]
  },
  {
   "cell_type": "code",
   "execution_count": null,
   "metadata": {},
   "outputs": [],
   "source": [
    "conn.close()"
   ]
  },
  {
   "cell_type": "markdown",
   "metadata": {},
   "source": [
    "<img style=\"float:center;\" src=\"./img/dataacquisition_otherdatabase.png\">"
   ]
  },
  {
   "cell_type": "markdown",
   "metadata": {},
   "source": [
    "<img style=\"float:center;\" src=\"./img/dataacquisition_oracle.png\">"
   ]
  },
  {
   "cell_type": "markdown",
   "metadata": {},
   "source": [
    " \n",
    " <br/>\n",
    " <br/>\n",
    " <br/>\n",
    " <br/>\n",
    " <br/>"
   ]
  },
  {
   "cell_type": "markdown",
   "metadata": {},
   "source": [
    "<img style=\"float:center;\" src=\"./img/dataacquisition_multable.png\">"
   ]
  },
  {
   "cell_type": "markdown",
   "metadata": {},
   "source": [
    "## 多表连接"
   ]
  },
  {
   "cell_type": "code",
   "execution_count": null,
   "metadata": {},
   "outputs": [],
   "source": [
    "import sqlite3\n",
    "\n",
    "db_path = './files/test.sqlite'\n",
    "conn = sqlite3.connect(db_path)\n",
    "cur = conn.cursor()"
   ]
  },
  {
   "cell_type": "code",
   "execution_count": null,
   "metadata": {},
   "outputs": [],
   "source": [
    "# 建department表，并插入数据\n",
    "cur.execute(\"DROP TABLE IF EXISTS department\")\n",
    "cur.execute(\"CREATE TABLE department(\\\n",
    "                id INT PRIMARY KEY NOT NULL, \\\n",
    "                dept CHAR(50) NOT NULL,\\\n",
    "                emp_id INT NOT NULL)\")\n",
    "depts = (\n",
    "        (1, 'IT Building', 1),\n",
    "        (2, 'Engineerin', 2),\n",
    "        (3, 'Finance', 7)\n",
    ")\n",
    "cur.executemany(\"INSERT INTO department VALUES(?, ?, ?)\", depts)"
   ]
  },
  {
   "cell_type": "code",
   "execution_count": null,
   "metadata": {},
   "outputs": [],
   "source": [
    "# 建company表，并插入数据\n",
    "cur.execute(\"DROP TABLE IF EXISTS company\")\n",
    "cur.execute(\"CREATE TABLE company(\\\n",
    "                id INT PRIMARY KEY NOT NULL, \\\n",
    "                name CHAR(50) NOT NULL,\\\n",
    "                age INT NOT NULL,\\\n",
    "                address CHAR(50) NOT NULL,\\\n",
    "                salary DOUBLE NOT NULL)\")\n",
    "companies = (\n",
    "        (1, 'Paul', 32, 'California', 20000.0),\n",
    "        (2, 'Allen', 25, 'Texas', 15000.0),\n",
    "        (3, 'Teddy', 23, 'Norway', 20000.0),\n",
    "        (4, 'Mark', 25, 'Rich-Mond', 65000.0),\n",
    "        (5, 'David', 27, 'Texas', 85000.0),\n",
    "        (6, 'Kim', 22, 'South-Hall', 45000.0),\n",
    "        (7, 'James', 24, 'Houston', 10000.0)\n",
    ")\n",
    "cur.executemany(\"INSERT INTO company VALUES(?, ?, ?, ?, ?)\", companies)"
   ]
  },
  {
   "cell_type": "code",
   "execution_count": null,
   "metadata": {},
   "outputs": [],
   "source": [
    "conn.commit()"
   ]
  },
  {
   "cell_type": "markdown",
   "metadata": {},
   "source": [
    "* ### CROSS JOIN 交叉连接"
   ]
  },
  {
   "cell_type": "code",
   "execution_count": null,
   "metadata": {},
   "outputs": [],
   "source": [
    "cur.execute(\"SELECT department.id, dept, emp_id, company.id, name, age, address, salary\\\n",
    "             FROM company CROSS JOIN department;\")\n",
    "rows = cur.fetchall()\n",
    "for row in rows:\n",
    "    print(row)"
   ]
  },
  {
   "cell_type": "markdown",
   "metadata": {},
   "source": [
    "* ### INNER JOIN 内连接"
   ]
  },
  {
   "cell_type": "code",
   "execution_count": null,
   "metadata": {},
   "outputs": [],
   "source": [
    "cur.execute(\"SELECT department.id, dept, emp_id, company.id, name, age, address, salary\\\n",
    "             FROM company INNER JOIN department ON company.id == department.emp_id;\")\n",
    "rows = cur.fetchall()\n",
    "for row in rows:\n",
    "    print(row)"
   ]
  },
  {
   "cell_type": "markdown",
   "metadata": {},
   "source": [
    "* ### OUTER JOIN 外连接"
   ]
  },
  {
   "cell_type": "code",
   "execution_count": null,
   "metadata": {},
   "outputs": [],
   "source": [
    "#左连接\n",
    "cur.execute(\"SELECT department.id, dept, emp_id, company.id, name, age, address, salary\\\n",
    "             FROM company LEFT OUTER JOIN department ON company.id == department.emp_id;\")\n",
    "rows = cur.fetchall()\n",
    "for row in rows:\n",
    "    print(row)"
   ]
  },
  {
   "cell_type": "code",
   "execution_count": null,
   "metadata": {},
   "outputs": [],
   "source": [
    "#右连接 （目前不支持）\n",
    "cur.execute(\"SELECT department.id, dept, emp_id, company.id, name, age, address, salary\\\n",
    "             FROM company RIGHT OUTER JOIN department ON company.id == department.emp_id;\")\n",
    "rows = cur.fetchall()\n",
    "for row in rows:\n",
    "    print(row)"
   ]
  },
  {
   "cell_type": "code",
   "execution_count": null,
   "metadata": {
    "scrolled": true
   },
   "outputs": [],
   "source": [
    "#右连接，交换两张表\n",
    "cur.execute(\"SELECT department.id, dept, emp_id, company.id, name, age, address, salary\\\n",
    "             FROM department LEFT OUTER JOIN company ON company.id == department.emp_id;\")\n",
    "rows = cur.fetchall()\n",
    "for row in rows:\n",
    "    print(row)"
   ]
  },
  {
   "cell_type": "markdown",
   "metadata": {},
   "source": [
    "<br/>\n",
    "<br/>\n",
    "<br/>"
   ]
  },
  {
   "cell_type": "markdown",
   "metadata": {},
   "source": [
    "<img style=\"float:center;\" src=\"./img/dataacquisition_webcrawler.png\">"
   ]
  },
  {
   "cell_type": "markdown",
   "metadata": {},
   "source": [
    "* ### urllib库"
   ]
  },
  {
   "cell_type": "code",
   "execution_count": null,
   "metadata": {},
   "outputs": [],
   "source": [
    "# Python 3.x\n",
    "import urllib.request\n",
    "\n",
    "# Python 2.x\n",
    "#import urllib2\n",
    "\n",
    "test_url = \"http://www.google.com\""
   ]
  },
  {
   "cell_type": "markdown",
   "metadata": {},
   "source": [
    "* ### URL下载模块"
   ]
  },
  {
   "cell_type": "code",
   "execution_count": null,
   "metadata": {},
   "outputs": [],
   "source": [
    "# 通过URL下载\n",
    "response = urllib.request.urlopen(test_url)\n",
    "print(response.getcode()) # 200表示访问成功\n",
    "print(response.read())"
   ]
  },
  {
   "cell_type": "code",
   "execution_count": null,
   "metadata": {},
   "outputs": [],
   "source": [
    "# 通过Request访问\n",
    "request = urllib.request.Request(test_url)\n",
    "request.add_header(\"user-agent\", \"Mozilla/5.0\")\n",
    "\n",
    "response = urllib.request.urlopen(request)\n",
    "print(response.getcode()) # 200表示访问成功\n",
    "print(response.read())"
   ]
  },
  {
   "cell_type": "code",
   "execution_count": null,
   "metadata": {},
   "outputs": [],
   "source": [
    "#通过cookie访问\n",
    "\n",
    "import http.cookiejar\n",
    "\n",
    "cookie_jar = http.cookiejar.CookieJar()\n",
    "opener = urllib.request.build_opener(urllib.request.HTTPCookieProcessor(cookie_jar))\n",
    "urllib.request.install_opener(opener)\n",
    "\n",
    "response = urllib.request.urlopen(test_url)\n",
    "print(response.getcode()) # 200表示访问成功\n",
    "print(response.read())\n",
    "print(cookie_jar)"
   ]
  },
  {
   "cell_type": "markdown",
   "metadata": {},
   "source": [
    "<br/>\n",
    "<br/>\n",
    "<br/>"
   ]
  },
  {
   "cell_type": "markdown",
   "metadata": {},
   "source": [
    "<img style=\"float:center;\" src=\"./img/dataacquisition_bsparse.png\">"
   ]
  },
  {
   "cell_type": "markdown",
   "metadata": {},
   "source": [
    "## BeautifulSoup"
   ]
  },
  {
   "cell_type": "code",
   "execution_count": null,
   "metadata": {},
   "outputs": [],
   "source": [
    "from bs4 import BeautifulSoup\n",
    "import urllib.request"
   ]
  },
  {
   "cell_type": "code",
   "execution_count": null,
   "metadata": {},
   "outputs": [],
   "source": [
    "html = urllib.request.urlopen(\"http://www.baidu.com\")\n",
    "bs_obj = BeautifulSoup(html, 'html.parser', from_encoding='utf-8')\n",
    "print(\"title tag: \", bs_obj.title)"
   ]
  },
  {
   "cell_type": "markdown",
   "metadata": {},
   "source": [
    "<img style=\"float:center;\" src=\"./img/dataacquisition_bsparse_2.png\">"
   ]
  },
  {
   "cell_type": "markdown",
   "metadata": {},
   "source": [
    "* ### 查找节点"
   ]
  },
  {
   "cell_type": "code",
   "execution_count": null,
   "metadata": {},
   "outputs": [],
   "source": [
    "html_doc = \"\"\"\n",
    "<html lang=\"en-US\"><head><title>The Dormouse's story</title></head>\n",
    "  <body>\n",
    "    <h1 class=\"title\"><b>The Dormouse's story</b></h1>\n",
    "\n",
    "    <p class=\"story\">Once upon a time there were three little sisters; and their names were\n",
    "      <strong>test</strong>\n",
    "  <a href=\"http://example.com/elsie\" class=\"sister wut\" id=\"link1\"><strong>Elsie</strong></a>,\n",
    "<a href=\"http://example.com/lacie\" class=\"sister\" id=\"link2\">Lacie</a> and\n",
    "<a href=\"http://example.com/tillie\" class=\"sister\" id=\"link3\">Tillie</a>;\n",
    "and they lived at the bottom of a well.</p>\n",
    "\n",
    "<p data-original=\"test\">foo</p>\n",
    "\n",
    "<div class=\"curr_lang\">\n",
    "<p>\n",
    "Inside a div.\n",
    "</p>\n",
    "\"\"\"\n",
    "\n",
    "#创建对象\n",
    "bs_obj = BeautifulSoup(html_doc, 'html.parser')"
   ]
  },
  {
   "cell_type": "markdown",
   "metadata": {},
   "source": [
    "* ### 按类型查找节点"
   ]
  },
  {
   "cell_type": "code",
   "execution_count": null,
   "metadata": {},
   "outputs": [],
   "source": [
    "# 提取所有链接\n",
    "print('1. 提取所有链接')\n",
    "link_list = bs_obj.find_all('a')\n",
    "for link in link_list:\n",
    "    print(link.name, link['href'], link.get_text())"
   ]
  },
  {
   "cell_type": "markdown",
   "metadata": {},
   "source": [
    "* ### 按属性查找节点"
   ]
  },
  {
   "cell_type": "code",
   "execution_count": null,
   "metadata": {},
   "outputs": [],
   "source": [
    "# 提取一条链接\n",
    "print('2. 提取一条链接')\n",
    "link = bs_obj.find('a', id='link2')\n",
    "print(link.name, link['href'], link.get_text())"
   ]
  },
  {
   "cell_type": "code",
   "execution_count": null,
   "metadata": {},
   "outputs": [],
   "source": [
    "# 再提取一条链接\n",
    "print('3. 再提取一条链接')\n",
    "link = bs_obj.find('a', class_='sister') #class是一个关键词， 所以这里要加上_\n",
    "print(link.name, link['href'], link.get_text())"
   ]
  },
  {
   "cell_type": "markdown",
   "metadata": {},
   "source": [
    "* ### 异常处理"
   ]
  },
  {
   "cell_type": "code",
   "execution_count": null,
   "metadata": {},
   "outputs": [],
   "source": [
    "# 服务器和URL的异常处理\n",
    "\n",
    "try:\n",
    "    html = urllib.request.urlopen(\"http://www.wandu1111.com\")\n",
    "except Exception as e:\n",
    "    print(e)        "
   ]
  },
  {
   "cell_type": "code",
   "execution_count": null,
   "metadata": {},
   "outputs": [],
   "source": [
    "# HTML标签访问异常处理\n",
    "try:\n",
    "    tag_content = bs_obj.title.yy_tag\n",
    "    #tag_content = bs_obj.xx_tag.yy_tag\n",
    "except AttributeError as e:\n",
    "    print(\"xx_tag 标签不存在\")\n",
    "else:\n",
    "    if tag_content is None:\n",
    "        print(\"yy_tag 标签不存在\")\n",
    "    else:\n",
    "        print(tag_content)\n",
    "            "
   ]
  },
  {
   "cell_type": "code",
   "execution_count": null,
   "metadata": {},
   "outputs": [],
   "source": [
    "# 创建一个完整的函数处理title\n",
    "\n",
    "def get_html_title(url):\n",
    "    \"\"\"\n",
    "        获取url地址的title\n",
    "    \"\"\"\n",
    "    try:\n",
    "        html = urllib.request.urlopen(url)\n",
    "    except Exception as e:\n",
    "        return None\n",
    "    \n",
    "    try:\n",
    "        bs_obj = BeautifulSoup(html.read(), 'html.parser')\n",
    "        title = bs_obj.title\n",
    "    except Exception as e:\n",
    "        return None\n",
    "    \n",
    "    return title\n",
    "\n",
    "title = get_html_title(\"http://www.taobao.com\")\n",
    "if title is not None:\n",
    "    print(title)\n",
    "else:\n",
    "    print(\"Title获取失败！\")"
   ]
  },
  {
   "cell_type": "markdown",
   "metadata": {},
   "source": [
    "<img style=\"float:center;\" src=\"./img/dataacquisition_bsparse_3.png\">"
   ]
  },
  {
   "cell_type": "markdown",
   "metadata": {},
   "source": [
    "## BeautifulSoup进阶"
   ]
  },
  {
   "cell_type": "code",
   "execution_count": null,
   "metadata": {},
   "outputs": [],
   "source": [
    "import urllib.request\n",
    "from bs4 import BeautifulSoup"
   ]
  },
  {
   "cell_type": "markdown",
   "metadata": {},
   "source": [
    "* ### CSS方式查找节点"
   ]
  },
  {
   "cell_type": "code",
   "execution_count": null,
   "metadata": {},
   "outputs": [],
   "source": [
    "# find()\n",
    "html = urllib.request.urlopen(\"https://www.amazon.cn/dp/B071RSC7ZH/ref=zg_bs_office-products_1?_encoding=UTF8&psc=1&refRID=JRTMYHY7BJQHX7ETGJ9G\")\n",
    "bs_obj = BeautifulSoup(html, 'lxml')\n",
    "\n",
    "nav = bs_obj.find(\"span\", {\"class\" : \"nav-a-content\"})\n",
    "print(nav.get_text())"
   ]
  },
  {
   "cell_type": "code",
   "execution_count": null,
   "metadata": {},
   "outputs": [],
   "source": [
    "# find_all()\n",
    "html = urllib.request.urlopen(\"https://www.amazon.cn/dp/B071RSC7ZH/ref=zg_bs_office-products_1?_encoding=UTF8&psc=1&refRID=JRTMYHY7BJQHX7ETGJ9G\")\n",
    "bs_obj = BeautifulSoup(html, 'lxml')\n",
    "\n",
    "nav_list = bs_obj.findAll(\"span\", {\"class\" : \"nav-a-content\"})\n",
    "for nav in nav_list:\n",
    "    print(nav.get_text())"
   ]
  },
  {
   "cell_type": "markdown",
   "metadata": {},
   "source": [
    "* ### 保存解析的内容"
   ]
  },
  {
   "cell_type": "code",
   "execution_count": null,
   "metadata": {},
   "outputs": [],
   "source": [
    "nav_name_list = [nav.get_text() for nav in nav_list]\n",
    "\n",
    "# 保存到文件中\n",
    "with open('./outotu.txt', 'w', encoding='utf-8') as f:\n",
    "    for nav_name in nav_name_list:\n",
    "        f.write('{}\\n'.format(nav_name))"
   ]
  },
  {
   "cell_type": "markdown",
   "metadata": {},
   "source": [
    "* ### 树形结构  \n",
    "<br/>\n",
    "<br/>\n",
    "* ### 孩子节点 children"
   ]
  },
  {
   "cell_type": "code",
   "execution_count": null,
   "metadata": {},
   "outputs": [],
   "source": [
    "# children\n",
    "html = urllib.request.urlopen(\"http://www.pythonscraping.com/pages/page3.html\")\n",
    "bs_obj = BeautifulSoup(html, 'lxml')\n",
    "for child in bs_obj.find(\"table\", {\"id\":\"giftList\"}).children:\n",
    "    print(child)"
   ]
  },
  {
   "cell_type": "markdown",
   "metadata": {},
   "source": [
    "* ### 子孙节点 descendants"
   ]
  },
  {
   "cell_type": "code",
   "execution_count": null,
   "metadata": {},
   "outputs": [],
   "source": [
    "# descendants\n",
    "html = urllib.request.urlopen(\"http://www.pythonscraping.com/pages/page3.html\")\n",
    "bs_obj = BeautifulSoup(html, 'lxml')\n",
    "for child in bs_obj.find(\"table\", {\"id\":\"giftList\"}).descendants:\n",
    "    print(child)"
   ]
  },
  {
   "cell_type": "markdown",
   "metadata": {},
   "source": [
    "* ### 同辈节点 next_siblings"
   ]
  },
  {
   "cell_type": "code",
   "execution_count": null,
   "metadata": {},
   "outputs": [],
   "source": [
    "# next_siblings\n",
    "html = urllib.request.urlopen(\"http://www.pythonscraping.com/pages/page3.html\")\n",
    "bs_obj = BeautifulSoup(html, 'lxml')\n",
    "for sibling in bs_obj.find(\"table\", {\"id\":\"giftList\"}).tr.next_siblings:\n",
    "    print(sibling)"
   ]
  },
  {
   "cell_type": "markdown",
   "metadata": {},
   "source": [
    "* ### parent 父亲节点"
   ]
  },
  {
   "cell_type": "code",
   "execution_count": null,
   "metadata": {},
   "outputs": [],
   "source": [
    "# parent and previous_sibling\n",
    "html = urllib.request.urlopen(\"http://www.pythonscraping.com/pages/page3.html\")\n",
    "bs_obj = BeautifulSoup(html, 'lxml')\n",
    "print(bs_obj.find(\"img\", {\"src\":\"../img/gifts/img1.jpg\"}).parent.previous_sibling.get_text())"
   ]
  },
  {
   "cell_type": "markdown",
   "metadata": {},
   "source": [
    "<br/>"
   ]
  },
  {
   "cell_type": "markdown",
   "metadata": {},
   "source": [
    "<img style=\"float:center;\" src=\"./img/dataacquisition_bsparse_4.png\">"
   ]
  },
  {
   "cell_type": "markdown",
   "metadata": {},
   "source": [
    "<br/>"
   ]
  },
  {
   "cell_type": "markdown",
   "metadata": {},
   "source": [
    "<font size=6>正则表达式</font>  \n",
    "<br/><br/>\n",
    "<font size=4>RegexPal用来验证正则表达式</font>  \n",
    "\n",
    "<br/>\n",
    "* <font size=4>电子邮箱验证</font>  \n"
   ]
  },
  {
   "cell_type": "code",
   "execution_count": null,
   "metadata": {},
   "outputs": [],
   "source": [
    "import re\n",
    "pattern = re.compile(r'[A-Za-z0-9._+]+@[A-Za-z]+\\.(com|org|edu|net)')\n",
    "match = pattern.match('bliang33@csu.edu.au')\n",
    "\n",
    "if match:\n",
    "    print(match.group())\n",
    "else:\n",
    "    print('非法的邮箱地址！')"
   ]
  },
  {
   "cell_type": "markdown",
   "metadata": {},
   "source": [
    "* <font size=4>使用正则表达式查找节点</font> "
   ]
  },
  {
   "cell_type": "code",
   "execution_count": null,
   "metadata": {},
   "outputs": [],
   "source": [
    "import urllib.request\n",
    "from bs4 import BeautifulSoup\n",
    "import re\n",
    "\n",
    "html = urllib.request.urlopen(\"http://www.pythonscraping.com/pages/page3.html\")\n",
    "bs_obj = BeautifulSoup(html, 'lxml', from_encoding='utf-8')\n",
    "images = bs_obj.findAll(\"img\", {\"src\":re.compile(r\"\\.\\./img/gifts/img.*\\.jpg\")})\n",
    "for image in images:\n",
    "    print(image[\"src\"])"
   ]
  },
  {
   "cell_type": "code",
   "execution_count": null,
   "metadata": {},
   "outputs": [],
   "source": [
    "import urllib.request\n",
    "from bs4 import BeautifulSoup\n",
    "import re\n",
    "\n",
    "html = urllib.request.urlopen(\"http://baike.baidu.com/item/Python/407313?fr=aladdin\")\n",
    "bs_obj = BeautifulSoup(html, 'lxml', from_encoding='utf-8')\n",
    "\n",
    "for link in bs_obj.find(\"div\", {\"class\":\"main-content\"}).findAll(\"a\", href=re.compile(\"^(/view/)((?!:).)*$\")):\n",
    "    if \"href\" in link.attrs:\n",
    "        print('{}: {}'.format(link.attrs['href'], link.get_text()))"
   ]
  },
  {
   "cell_type": "markdown",
   "metadata": {},
   "source": [
    "<br/><br/><br/>"
   ]
  },
  {
   "cell_type": "markdown",
   "metadata": {},
   "source": [
    "<img style=\"float:center;\" src=\"./img/dataacquisition_scrapy.png\">"
   ]
  },
  {
   "cell_type": "markdown",
   "metadata": {},
   "source": [
    "<br/><br/><br/><br/>"
   ]
  },
  {
   "cell_type": "markdown",
   "metadata": {},
   "source": [
    "<img style=\"float:center;\" src=\"./img/dataacquisition_refer.png\">"
   ]
  },
  {
   "cell_type": "code",
   "execution_count": null,
   "metadata": {},
   "outputs": [],
   "source": []
  }
 ],
 "metadata": {
  "kernelspec": {
   "display_name": "Python 3",
   "language": "python",
   "name": "python3"
  },
  "language_info": {
   "codemirror_mode": {
    "name": "ipython",
    "version": 3
   },
   "file_extension": ".py",
   "mimetype": "text/x-python",
   "name": "python",
   "nbconvert_exporter": "python",
   "pygments_lexer": "ipython3",
   "version": "3.6.4"
  }
 },
 "nbformat": 4,
 "nbformat_minor": 2
}
