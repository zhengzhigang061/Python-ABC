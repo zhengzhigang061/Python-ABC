{
 "cells": [
  {
   "cell_type": "markdown",
   "metadata": {},
   "source": [
    "* ## NumPy\n",
    "* ## SciPy\n",
    "* ## Matplotlib入门\n",
    "* ## 实战案例：\n",
    "### 1、2016 Election Pools\n",
    "### 2、科技工作者心理健康数据分析"
   ]
  },
  {
   "cell_type": "markdown",
   "metadata": {},
   "source": [
    "## NumPy, <font color='red'>Num</font>erical <font color='red'>Py</font>thon\n",
    "* ### 高性能科学计算和数据分析的基础包\n",
    "* ### ndarray，多维数据（矩阵），具有矢量运算能力，快速、节省空间\n",
    "* ### 矩阵运算，无需循环，可完成类似MatLab中的矢量运算\n",
    "* ### 线性代数，随机数生成\n",
    "* ### import numpy as np"
   ]
  },
  {
   "cell_type": "markdown",
   "metadata": {},
   "source": [
    "## SciPy\n",
    "* ### 在NumPy库的基础上增加了众多的数学、科学及工程常用的库函数\n",
    "* ### 线性代数、常微分方程求解、信号处理、图像处理、稀疏矩阵等\n",
    "* ### import scipy as sp"
   ]
  },
  {
   "cell_type": "markdown",
   "metadata": {},
   "source": [
    "## ndarray，N维数组对象（矩阵）\n",
    "* ### 所有元素必须是<font color='red'>相同类型</font>\n",
    "* ### ndim属性，维度个数\n",
    "* ### shape属性，各维度大小\n",
    "* ### dtype属性，数据类型"
   ]
  },
  {
   "cell_type": "code",
   "execution_count": null,
   "metadata": {},
   "outputs": [],
   "source": [
    "import numpy as np\n",
    "\n",
    "#生成指定维度的随机多维数组\n",
    "data = np.random.rand(2, 3) #生成一个两行三列的多维数组\n",
    "print(type(data)) #查看数据类型,这个地方数据类型是numpy.ndarray的数据类型"
   ]
  },
  {
   "cell_type": "code",
   "execution_count": null,
   "metadata": {},
   "outputs": [],
   "source": [
    "print(\"维度个数\",data.ndim) #维度个数  2 　　　　维度个数有两个，第0个维度大小是2，第一个维度大小是3\n",
    "print(\"各维度大小\",data.shape) #各维度的大小:(2L,3L)　　　　L代表的是Long\n",
    "print(\"数据类型\",data.dtype) #float   64　　　　数据类型是float64位的数据"
   ]
  },
  {
   "cell_type": "markdown",
   "metadata": {},
   "source": [
    "## 创建ndarray\n",
    "* ### np.array(collection)，collection为序列型对象(list)，嵌套序列(list of list)\n",
    "* ### np.zeros, np.ones, np.empty 指定大小的全0或全1数组\n",
    " * #### 注意：第一个参数是元组，用来指定大小，如(3,4)\n",
    " * #### empty不是总是返回全0，有时返回的是未初始的随机数\n",
    "* ### np.arange()类似range() 注意是arange，不是英文arrange"
   ]
  },
  {
   "cell_type": "code",
   "execution_count": null,
   "metadata": {},
   "outputs": [],
   "source": [
    "#list转换为ndarray\n",
    "l = range(10)\n",
    "data = np.array(l)\n",
    "print(data)\n",
    "print(data.shape)\n",
    "print(data.ndim)"
   ]
  },
  {
   "cell_type": "code",
   "execution_count": null,
   "metadata": {},
   "outputs": [],
   "source": [
    "#嵌套序列转换为ndarray\n",
    "l2 = [range(10), range(10)]\n",
    "data = np.array(l2) #创建一个两行10列的数组\n",
    "print(data)\n",
    "print(data.shape) #第一个维度的大小是2，第二个维度的大小是10\n",
    "print(data.ndim)"
   ]
  },
  {
   "cell_type": "code",
   "execution_count": null,
   "metadata": {},
   "outputs": [],
   "source": [
    "# np.zeros, np.ones 和 np.empty\n",
    "\n",
    "#np.zeros\n",
    "zeros_arr = np.zeros((3, 4))\n",
    "\n",
    "#np.ones\n",
    "ones_arr = np.ones((2, 3))\n",
    "\n",
    "#np.empty\n",
    "empty_arr = np.empty((3, 3))\n",
    "\n",
    "#np.empty 指定数据类型\n",
    "empty_int_arr = np.empty((3, 3), int)\n",
    "\n",
    "print(zeros_arr)\n",
    "print(ones_arr)\n",
    "print(empty_arr)\n",
    "print(empty_int_arr)"
   ]
  },
  {
   "cell_type": "code",
   "execution_count": null,
   "metadata": {},
   "outputs": [],
   "source": [
    "#np.arange()\n",
    "print(np.arange(10))"
   ]
  },
  {
   "cell_type": "markdown",
   "metadata": {},
   "source": [
    "## ndarray数据类型\n",
    "* ### dtype，类型名+位数，如float64，int32\n",
    "* ### 转换数组类型\n",
    " * #### astype"
   ]
  },
  {
   "cell_type": "code",
   "execution_count": null,
   "metadata": {},
   "outputs": [],
   "source": [
    "zeros_float_arr = np.zeros((3, 4), dtype = np.float64)\n",
    "print(zeros_float_arr)\n",
    "print(zeros_float_arr.dtype)\n",
    "\n",
    "#astype转换数据类型\n",
    "zeros_int_arr = zeros_float_arr.astype(np.int32)\n",
    "print(zeros_int_arr)\n",
    "print(zeros_int_arr.dtype)"
   ]
  },
  {
   "cell_type": "markdown",
   "metadata": {},
   "source": [
    "## 矢量化(vectorization)\n",
    "* ### 矢量运算，相同大小的数组间的运算应用在<font color='red'>元素</font>上\n",
    "* ### 矢量和标量运算，\"广播\" —— 将标量<font color='red'>\"广播\"</font>到各个元素"
   ]
  },
  {
   "cell_type": "code",
   "execution_count": null,
   "metadata": {},
   "outputs": [],
   "source": [
    "#矢量与矢量运算\n",
    "arr = np.array([[1, 2, 3], [4, 5, 6]])\n",
    "\n",
    "print(\"元素相乘：\")\n",
    "print(arr * arr)\n",
    "\n",
    "print(\"元素相加：\")\n",
    "print(arr + arr)"
   ]
  },
  {
   "cell_type": "code",
   "execution_count": null,
   "metadata": {},
   "outputs": [],
   "source": [
    "#矢量与标量运算\n",
    "print(1. / arr)\n",
    "print(2. * arr)"
   ]
  },
  {
   "cell_type": "markdown",
   "metadata": {},
   "source": [
    "## 索引与切片\n",
    "* ### <font color='red'>一维数组</font>的索引与Python的列表索引功能相似\n",
    "* ### <font color='red'>多维数组</font>的索引\n",
    "  * #### arr[r1:r2, c1:c2]\n",
    "  * #### arr[1,1] 等价 arr[1][1]\n",
    "  * #### [:] 代表某个维度的数据  \n",
    "<img style=\"float:center;\" src=\"./img/dataacquisition_scientificcalculations_1.png\">\n",
    "* ### 条件索引\n",
    "  * #### <font color='red'>布尔值</font>多维数组 arr[condition] condition可以是多个条件组合\n",
    "  * #### 注意，多个条件组合要使用 <font color='red'>& |</font>，而不是and or "
   ]
  },
  {
   "cell_type": "markdown",
   "metadata": {},
   "source": [
    "<img style=\"float:left;\" src=\"./img/dataacquisition_scientificcalculations_2.png\">"
   ]
  },
  {
   "cell_type": "code",
   "execution_count": null,
   "metadata": {},
   "outputs": [],
   "source": [
    "# 一维数组\n",
    "arr1 = np.arange(10)\n",
    "print(arr1)\n",
    "print(arr1[2:5])"
   ]
  },
  {
   "cell_type": "code",
   "execution_count": null,
   "metadata": {},
   "outputs": [],
   "source": [
    "#多维数组\n",
    "arr2 = np.arange(12).reshape(3,4)\n",
    "print(arr2)"
   ]
  },
  {
   "cell_type": "code",
   "execution_count": null,
   "metadata": {},
   "outputs": [],
   "source": [
    "print(arr2[1])\n",
    "print(arr2[0:2, 2:])\n",
    "print(arr2[:, 1:3])"
   ]
  },
  {
   "cell_type": "code",
   "execution_count": null,
   "metadata": {},
   "outputs": [],
   "source": [
    "#条件索引\n",
    "\n",
    "#找到 data_arr 中2015年后的数据\n",
    "data_arr = np.random.rand(3, 3)\n",
    "print(data_arr)\n",
    "\n",
    "year_arr = np.array([[2000, 2001, 2000], [2005, 2002, 2009], [2001, 2003, 2010]])\n",
    "print(year_arr)\n",
    "\n",
    "is_year_after_2005 = year_arr >= 2005\n",
    "print(is_year_after_2005)\n",
    "\n",
    "filtered_arr = data_arr[is_year_after_2005]\n",
    "\n",
    "#filtered_arr = data_arr[year_arr >= 2005]\n",
    "print(filtered_arr)"
   ]
  },
  {
   "cell_type": "code",
   "execution_count": null,
   "metadata": {},
   "outputs": [],
   "source": [
    "#多个条件\n",
    "filtered_arr = data_arr[(year_arr <= 2005) & (year_arr % 2 == 0)]\n",
    "print(filtered_arr)"
   ]
  },
  {
   "cell_type": "markdown",
   "metadata": {},
   "source": [
    "## 维数转换\n",
    "* ### 转置 transpose\n",
    "* ### 高纬数组转置要指定<font color='red'>维度编号（0,1,2,...）\n",
    "    \n",
    "<img style=\"float:center;\" src=\"./img/dataacquisition_scientificcalculations_3.png\">"
   ]
  },
  {
   "cell_type": "code",
   "execution_count": null,
   "metadata": {},
   "outputs": [],
   "source": [
    "arr = np.random.rand(2,3)\n",
    "print(arr)\n",
    "print(arr.transpose())"
   ]
  },
  {
   "cell_type": "code",
   "execution_count": null,
   "metadata": {},
   "outputs": [],
   "source": [
    "arr3d = np.random.rand(2,3,4)# 2x3x4\n",
    "print(arr3d)"
   ]
  },
  {
   "cell_type": "code",
   "execution_count": null,
   "metadata": {},
   "outputs": [],
   "source": [
    "print(arr3d.transpose((1,0,2)))# 3x2x4"
   ]
  },
  {
   "cell_type": "code",
   "execution_count": null,
   "metadata": {},
   "outputs": [],
   "source": [
    "print(arr3d.transpose((2,1,0)))# 4x3x2"
   ]
  },
  {
   "cell_type": "code",
   "execution_count": null,
   "metadata": {},
   "outputs": [],
   "source": [
    "print(arr3d.transpose((1,2,0)))# 3x4x2"
   ]
  },
  {
   "cell_type": "markdown",
   "metadata": {},
   "source": [
    "## 通用函数(ufunc)\n",
    "* ### 元素级运算  \n",
    "\n",
    "## 常用的通用函数\n",
    "* ### ceil，向上最接近的整数\n",
    "* ### floor，向下最接近的整数\n",
    "* ### <font color='red'>rint</font>，四舍五入\n",
    "* ### <font color='red'>isnan</font>，判断元素是否为NaN（Not a Number）\n",
    "* ### multiply，元素相乘\n",
    "* ### divide，元素相除"
   ]
  },
  {
   "cell_type": "code",
   "execution_count": null,
   "metadata": {},
   "outputs": [],
   "source": [
    "arr = np.random.randn(2,3)\n",
    "print(arr)"
   ]
  },
  {
   "cell_type": "code",
   "execution_count": null,
   "metadata": {},
   "outputs": [],
   "source": [
    "print(np.ceil(arr))"
   ]
  },
  {
   "cell_type": "code",
   "execution_count": null,
   "metadata": {},
   "outputs": [],
   "source": [
    "print(np.floor(arr))"
   ]
  },
  {
   "cell_type": "code",
   "execution_count": null,
   "metadata": {},
   "outputs": [],
   "source": [
    "print(np.rint(arr))"
   ]
  },
  {
   "cell_type": "code",
   "execution_count": null,
   "metadata": {},
   "outputs": [],
   "source": [
    "print(np.isnan(arr))"
   ]
  },
  {
   "cell_type": "code",
   "execution_count": null,
   "metadata": {},
   "outputs": [],
   "source": [
    "arr = np.random.rand(3,4)\n",
    "print(arr)\n"
   ]
  },
  {
   "cell_type": "markdown",
   "metadata": {},
   "source": [
    "## np.where\n",
    " * ### 矢量版本的三元表达式 x if condition else y\n",
    " * ### np.where(condition, x, y) #这个地方，如果条件x满足的话，就输出x，如果不满足的话，就输出y"
   ]
  },
  {
   "cell_type": "code",
   "execution_count": null,
   "metadata": {},
   "outputs": [],
   "source": [
    "arr = np.random.randn(3,4)\n",
    "print(arr)"
   ]
  },
  {
   "cell_type": "code",
   "execution_count": null,
   "metadata": {},
   "outputs": [],
   "source": [
    "np.where(arr > 0, 1, -1)"
   ]
  },
  {
   "cell_type": "markdown",
   "metadata": {},
   "source": [
    "## 常用的统计方法\n",
    " * ### np.mean, np.sum #数组均值，数组的和\n",
    " * ### np.max, np.min  #数组的最大值，最小值\n",
    " * ### np.std, np.var  #数组的平方差，方差\n",
    " * ### np.argmax, np.argmin #将最大元素的下标进行输出，将最小元素的下标进行输出\n",
    " * ### np.cumsum, np.cumprod #数组元素的累加和，累积乘\n",
    " * ### 注意多维的话要<font color='red'>指定统计的维度</font>，否则默认是全部维度上做统计"
   ]
  },
  {
   "cell_type": "code",
   "execution_count": null,
   "metadata": {},
   "outputs": [],
   "source": [
    "arr = np.arange(10).reshape(5,2)\n",
    "print(arr)\n",
    "print(np.sum(arr))\n",
    "print(np.sum(arr, axis=0))\n",
    "print(np.sum(arr, axis=1))"
   ]
  },
  {
   "cell_type": "markdown",
   "metadata": {},
   "source": [
    "## np.all和np.any\n",
    " * ### all，全部满足条件\n",
    " * ### any，至少一个元素满足条件"
   ]
  },
  {
   "cell_type": "code",
   "execution_count": null,
   "metadata": {},
   "outputs": [],
   "source": [
    "arr = np.random.randn(2,3)\n",
    "print(arr)\n",
    "\n",
    "print(np.any(arr > 0))\n",
    "print(np.all(arr > 0))"
   ]
  },
  {
   "cell_type": "markdown",
   "metadata": {},
   "source": [
    "## np.unique\n",
    " * ### 找到唯一值并返回排序结果"
   ]
  },
  {
   "cell_type": "code",
   "execution_count": null,
   "metadata": {},
   "outputs": [],
   "source": [
    "arr = np.array([[1, 2, 1],[2, 3, 4]])\n",
    "print(arr)"
   ]
  },
  {
   "cell_type": "code",
   "execution_count": null,
   "metadata": {},
   "outputs": [],
   "source": [
    "print(np.unique(arr))"
   ]
  },
  {
   "cell_type": "markdown",
   "metadata": {},
   "source": [
    "## 操作文本文件\n",
    " * ### 读取\n",
    "   * #### np.loadtxt"
   ]
  },
  {
   "cell_type": "code",
   "execution_count": null,
   "metadata": {},
   "outputs": [],
   "source": [
    "#loadtxt\n",
    "filename = 'presidential_polls.csv'\n",
    "data_array = np.loadtxt(filename,         # 文件名\n",
    "                        delimiter=',',    # 分隔符\n",
    "                        dtype=str,        # 数据类型\n",
    "                        usecols=(0,2,3))  # 指定读取的列索引号\n",
    "print(data_array)\n",
    "print(data_array.ndim)\n",
    "print(data_array.shape)\n",
    "print(data_array.dtype)"
   ]
  },
  {
   "cell_type": "code",
   "execution_count": null,
   "metadata": {},
   "outputs": [],
   "source": [
    "#loadtxt\n",
    "filename = 'presidential_polls.csv'\n",
    "data_array = np.loadtxt(filename,    # 文件名\n",
    "                        delimiter=',',  # 分隔符\n",
    "                        skiprows=1,  # 跳过第一行，即跳过列名\n",
    "                        dtype={'names':('cycle', 'type', 'matchup'),\n",
    "                               'formats':('i4', 'S15', 'S50')},        # 数据类型\n",
    "                        usecols=(0,2,3))              # 指定读取的列索引号"
   ]
  },
  {
   "cell_type": "code",
   "execution_count": null,
   "metadata": {},
   "outputs": [],
   "source": [
    "print(data_array)\n",
    "print(data_array.ndim)\n",
    "print(data_array.shape)\n",
    "print(data_array.dtype)  #读取的结果是一维数组，每个元素是一个元组"
   ]
  },
  {
   "cell_type": "markdown",
   "metadata": {},
   "source": [
    "# Matplotlib\n",
    "## Matplotlib\n",
    "* ### 用于创建出版质量图表的绘图工具库\n",
    "* ### 目的是为Python构建一个Matlab式的绘图接口\n",
    "* ### import matplotlib.pyplot as plt\n",
    "  * #### pyplot模块包含了常用的matplotlib API函数"
   ]
  },
  {
   "cell_type": "markdown",
   "metadata": {},
   "source": [
    "## figure\n",
    "* ### Matplotlib的图像均位于figure对象中\n",
    "* ### 创建figure\n",
    "  * #### plt.figure()"
   ]
  },
  {
   "cell_type": "markdown",
   "metadata": {},
   "source": [
    "## Subplot\n",
    "* ### fig.add_subplot(a, b, c)\n",
    "  * #### a,b 表示将fig分割成axb的区域\n",
    "  * #### c 表示当前选中要操作的区域\n",
    "    * #### 注意：从1开始编号\n",
    "  * #### 返回的是AxesSubplot对象\n",
    "  * #### plot绘图的区域是最后一次指定subplot的位置（jupyter里不能正确显示）"
   ]
  },
  {
   "cell_type": "code",
   "execution_count": null,
   "metadata": {},
   "outputs": [],
   "source": [
    "# 引入matplotlib包\n",
    "import matplotlib.pyplot as plt\n"
   ]
  },
  {
   "cell_type": "code",
   "execution_count": null,
   "metadata": {},
   "outputs": [],
   "source": [
    "# 创建figure\n",
    "    fig = plt.figure()"
   ]
  },
  {
   "cell_type": "code",
   "execution_count": null,
   "metadata": {},
   "outputs": [],
   "source": [
    "# subplot\n",
    "ax1 = fig.add_subplot(2,2,1)\n",
    "ax2 = fig.add_subplot(2,2,2)\n",
    "ax3 = fig.add_subplot(2,2,3)\n",
    "ax4 = fig.add_subplot(2,2,4)"
   ]
  },
  {
   "cell_type": "code",
   "execution_count": null,
   "metadata": {},
   "outputs": [],
   "source": [
    "# 在subplot上作图\n",
    "import numpy as np\n",
    "random_arr = np.random.randn(100)\n",
    "#print(random_arr)\n",
    "\n",
    "# 默认是在最后一次使用subplot的位置上作图，但是在jupyter里无效\n",
    "plt.plot(random_arr)\n",
    "plt.show()"
   ]
  },
  {
   "cell_type": "markdown",
   "metadata": {},
   "source": [
    "* ### 在指定subplot里结合scipy绘制统计图\n",
    "  * #### 正态分布sp.stats.norm.pdf\n",
    "  * #### 正态直方图sp.stats.norm.rvs "
   ]
  },
  {
   "cell_type": "code",
   "execution_count": null,
   "metadata": {},
   "outputs": [],
   "source": [
    "# 在指定subplot作图\n",
    "\n",
    "import scipy as sp\n",
    "from scipy import stats\n",
    "\n",
    "x = np.linspace(-5, 15, 50)\n",
    "#print x.shape\n",
    "\n",
    "#绘制高斯分布\n",
    "plt.plot(x, sp.stats.norm.pdf(x=x, loc=5, scale=2))\n",
    "\n",
    "#叠加直方图\n",
    "plt.hist(sp.stats.norm.rvs(loc=5, scale=2, size=200), bins=50, normed=True, color='red', alpha=0.5)\n",
    "plt.show()"
   ]
  },
  {
   "cell_type": "markdown",
   "metadata": {},
   "source": [
    "* ### 直方图 hist\n",
    "* ### 散点图 scatter\n",
    "* ### 柱状图 bar\n",
    "* ### 矩阵绘图 plt.imshow()\n",
    "  * #### 混淆矩阵，三个维度的关系 "
   ]
  },
  {
   "cell_type": "code",
   "execution_count": null,
   "metadata": {},
   "outputs": [],
   "source": [
    "# 绘制直方图\n",
    "plt.hist(np.random.randn(100), bins=10, color='b', alpha=0.5)"
   ]
  },
  {
   "cell_type": "code",
   "execution_count": null,
   "metadata": {},
   "outputs": [],
   "source": [
    "# 绘制散点图\n",
    "x = np.arange(50)\n",
    "y = x + 5 * np.random.rand(50)\n",
    "plt.scatter(x,y)"
   ]
  },
  {
   "cell_type": "code",
   "execution_count": null,
   "metadata": {},
   "outputs": [],
   "source": [
    "# 柱状图\n",
    "x = np.arange(5)\n",
    "y1, y2 = np.random.randint(1, 25, size=(2,5))\n",
    "print(x)\n",
    "print(y1)\n",
    "print(y2)\n",
    "width = 0.25\n",
    "ax = plt.subplot(1,1,1)\n",
    "ax.bar(x, y1, width, color='r')\n",
    "ax.bar(x+width, y2, width, color='g')\n",
    "ax.set_xticks(x+width)\n",
    "ax.set_xticklabels(['a', 'b', 'c', 'd', 'e'])\n",
    "plt.show()"
   ]
  },
  {
   "cell_type": "code",
   "execution_count": null,
   "metadata": {},
   "outputs": [],
   "source": [
    "# 矩阵绘图\n",
    "m = np.random.rand(10, 10)\n",
    "plt.imshow(m, interpolation='nearest', cmap=plt.cm.ocean)\n",
    "plt.colorbar()\n",
    "plt.show()"
   ]
  },
  {
   "cell_type": "markdown",
   "metadata": {},
   "source": [
    "## plt.subplots()\n",
    "* ### 同时返回新创建的figure和subplot对象数组\n",
    "* ### fig, subplot_arr = plt.subplots(2,2)\n",
    "* ### <font color='red'>在jupyter里可以正常显示</font>，推荐使用这种方式创建多个图表"
   ]
  },
  {
   "cell_type": "code",
   "execution_count": null,
   "metadata": {},
   "outputs": [],
   "source": [
    "fig, subplot_arr = plt.subplots(2,2)\n",
    "subplot_arr[0,0].hist(np.random.randn(100), bins=10, color='b', alpha=0.3)\n",
    "\n",
    "x = np.arange(50)\n",
    "y = x + 5 * np.random.rand(50)\n",
    "subplot_arr[0,1].scatter(x,y)\n",
    "\n",
    "m = np.random.rand(10, 10)\n",
    "subplot_arr[1,0].imshow(m, interpolation='nearest', cmap=plt.cm.ocean)\n",
    "\n",
    "\n",
    "x = np.linspace(-5, 15, 50)\n",
    "#print x.shape\n",
    "\n",
    "#绘制高斯分布\n",
    "subplot_arr[1,1].plot(x, sp.stats.norm.pdf(x=x, loc=5, scale=2))\n",
    "\n",
    "plt.show()"
   ]
  },
  {
   "cell_type": "markdown",
   "metadata": {},
   "source": [
    "# 数据分析建模基础\n",
    "<img style=\"float:center;\" src=\"./img/dataacquisition_modelingprogram.png\">         \n",
    "\n",
    "\n",
    "  **<font size=5>分类与回归</font>**\n",
    "* **<font size=4>应用：信用卡申请人风险评估、预测公司业务增长量、预测房价等。</font>**\n",
    "* **<font size=4>原理：</font>**   \n",
    "\n",
    "&emsp;&emsp;&emsp;&emsp;&emsp;<font size=4>分类，将数据映射到预先定义的群组或类。算法要求基于数据属性值（特征值）  \n",
    "&emsp;来定义类别，把具有某些特征的数据项映射到给定的某个类别上。</font>  \n",
    "&emsp;&emsp;&emsp;&emsp;&emsp;<font size=4>回归，用属性的历史数据预测未来趋势。算法首先假设一些已知类型的函数可以  \n",
    "&emsp;拟合目标数据，然后利用某种误差分析确定一个与目标数据拟合程度最好的函数。</font>\n",
    "* **<font size=4>区别：分类模型采用<font color='red'>离散预测值</font>，回归模型采用<font color='red'>连续的预测值</font></font>**。  \n",
    "\n",
    "<br/><br/><br/>\n",
    "**<font size=5>聚类</font>**\n",
    "* **<font size=4>应用：根据症状归纳特定疾病、发现信用卡高级用户、根据上网行为对客户分群  \n",
    "    从而进行精确营销等</font>**\n",
    "* **<font size=4>原理：</font>**   \n",
    "\n",
    "&emsp;&emsp;&emsp;&emsp;&emsp;<font size=4>在没有给定划分类的情况下，根据信息相似度进行信息聚类。</font>  \n",
    "&emsp;&emsp;&emsp;&emsp;&emsp;<font size=4>聚类的输入是一组<font color='red'>未被标记</font>的数据，根据样本特征的距离或相似度进行划分。  \n",
    "    &emsp;划分原则是保持最大的组内相似度和最小的组间相似性。</font>  \n",
    "    \n",
    "<br/><br/><br/>\n",
    "**<font size=5>时序模型</font>**\n",
    "* **<font size=4>应用：下一个季度的商品销量或库存量是多少？明天用电量是多少？</font>**\n",
    "* **<font size=4>原理：</font>**   \n",
    "\n",
    "&emsp;&emsp;&emsp;&emsp;&emsp;<font size=4>描述基于时间或其他序列的经常发生的规律或趋势，并对其建模。</font>  \n",
    "&emsp;&emsp;&emsp;&emsp;&emsp;<font size=4>与回归一样，用已知的数据预测未来的值，但这些数据的区别是<font color='red'>变量所处时间  \n",
    "    &emsp;的不同</font>。重点考查数据之间在时间维度上的关联性。</font>"
   ]
  },
  {
   "cell_type": "code",
   "execution_count": null,
   "metadata": {},
   "outputs": [],
   "source": []
  }
 ],
 "metadata": {
  "kernelspec": {
   "display_name": "Python 3",
   "language": "python",
   "name": "python3"
  },
  "language_info": {
   "codemirror_mode": {
    "name": "ipython",
    "version": 3
   },
   "file_extension": ".py",
   "mimetype": "text/x-python",
   "name": "python",
   "nbconvert_exporter": "python",
   "pygments_lexer": "ipython3",
   "version": "3.6.4"
  }
 },
 "nbformat": 4,
 "nbformat_minor": 2
}
