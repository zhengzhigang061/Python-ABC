{
 "cells": [
  {
   "cell_type": "markdown",
   "metadata": {},
   "source": [
    "<img style=\"float:center;\" src=\"./img/pandas_outline.png\">"
   ]
  },
  {
   "cell_type": "markdown",
   "metadata": {},
   "source": [
    "<br/><br/><br/><br/>"
   ]
  },
  {
   "cell_type": "markdown",
   "metadata": {},
   "source": [
    "# Pandas数据结构"
   ]
  },
  {
   "cell_type": "code",
   "execution_count": null,
   "metadata": {},
   "outputs": [],
   "source": [
    "import pandas as pd"
   ]
  },
  {
   "cell_type": "markdown",
   "metadata": {},
   "source": [
    "* ## Series"
   ]
  },
  {
   "cell_type": "code",
   "execution_count": null,
   "metadata": {},
   "outputs": [],
   "source": [
    "# 通过list构建Series\n",
    "ser_obj = pd.Series(range(10, 20))\n",
    "print(type(ser_obj))"
   ]
  },
  {
   "cell_type": "code",
   "execution_count": null,
   "metadata": {},
   "outputs": [],
   "source": [
    "# 获取数据\n",
    "print(ser_obj.values)\n",
    "\n",
    "# 获取索引\n",
    "print(ser_obj.index)"
   ]
  },
  {
   "cell_type": "code",
   "execution_count": null,
   "metadata": {},
   "outputs": [],
   "source": [
    "# 预览数据\n",
    "print(ser_obj.head(3))"
   ]
  },
  {
   "cell_type": "code",
   "execution_count": null,
   "metadata": {},
   "outputs": [],
   "source": [
    "print(ser_obj)"
   ]
  },
  {
   "cell_type": "markdown",
   "metadata": {},
   "source": [
    "<img style=\"float:left;\" src=\"./img/pandas_se_index.png\">"
   ]
  },
  {
   "cell_type": "code",
   "execution_count": null,
   "metadata": {},
   "outputs": [],
   "source": [
    "# 通过索引获取数据\n",
    "print(ser_obj[0])\n",
    "print(ser_obj[8])"
   ]
  },
  {
   "cell_type": "code",
   "execution_count": null,
   "metadata": {},
   "outputs": [],
   "source": [
    "# 索引与数据的对应关系仍保持在数组运算的结果中\n",
    "print(ser_obj * 2)\n",
    "print(ser_obj > 15)\n",
    "print(ser_obj[ser_obj > 15])"
   ]
  },
  {
   "cell_type": "code",
   "execution_count": null,
   "metadata": {},
   "outputs": [],
   "source": [
    "# 通过dict构建Series\n",
    "year_data = {2001: 17.8, 2002: 20.1, 2003: 16.5}\n",
    "ser_obj2 = pd.Series(year_data)\n",
    "print(ser_obj2.head())\n",
    "print(ser_obj2.index)"
   ]
  },
  {
   "cell_type": "code",
   "execution_count": null,
   "metadata": {},
   "outputs": [],
   "source": [
    "# name属性\n",
    "ser_obj2.name = 'temp'\n",
    "ser_obj2.index.name = 'year'\n",
    "print(ser_obj2.head())"
   ]
  },
  {
   "cell_type": "markdown",
   "metadata": {},
   "source": [
    "<img style=\"float:left;\" src=\"./img/pandas_df_create.png\">"
   ]
  },
  {
   "cell_type": "code",
   "execution_count": null,
   "metadata": {},
   "outputs": [],
   "source": [
    "import numpy as np\n",
    "\n",
    "# 通过ndarray构建DataFrame\n",
    "array = np.random.randn(5,4)\n",
    "print(array)\n",
    "\n",
    "df_obj = pd.DataFrame(array)\n",
    "print(df_obj.head())"
   ]
  },
  {
   "cell_type": "code",
   "execution_count": null,
   "metadata": {},
   "outputs": [],
   "source": [
    "# 通过dict构建DataFrame\n",
    "\n",
    "dict_data = {'A': 1., 'B': pd.Timestamp('20161217'), 'C': pd.Series(1, index=list(range(4)), dtype='float32'),\n",
    "             'D': np.array([3] * 4, dtype='int32'), 'E': pd.Categorical([\"Python\", \"Java\", \"C++\", \"C#\"]),\n",
    "              'F': \"China\"}\n",
    "\n",
    "# print(dict_data)\n",
    "df_obj2 = pd.DataFrame(dict_data)\n",
    "print(df_obj2.head())"
   ]
  },
  {
   "cell_type": "code",
   "execution_count": null,
   "metadata": {},
   "outputs": [],
   "source": [
    "# 通过列索引获取列数据\n",
    "print(df_obj2['A'])\n",
    "print(type(df_obj2['A']))\n",
    "\n",
    "print(df_obj2.A)"
   ]
  },
  {
   "cell_type": "code",
   "execution_count": null,
   "metadata": {},
   "outputs": [],
   "source": [
    "# 增加列\n",
    "df_obj2['G'] = df_obj2['D'] + 4\n",
    "print(df_obj2)"
   ]
  },
  {
   "cell_type": "code",
   "execution_count": null,
   "metadata": {},
   "outputs": [],
   "source": [
    "# 删除列\n",
    "del(df_obj2['G'])\n",
    "print(df_obj2)"
   ]
  },
  {
   "cell_type": "markdown",
   "metadata": {},
   "source": [
    "<img style=\"float:left;\" src=\"./img/pandas_index_obj.png\">"
   ]
  },
  {
   "cell_type": "code",
   "execution_count": null,
   "metadata": {},
   "outputs": [],
   "source": [
    "print(type(ser_obj.index))\n",
    "print(type(df_obj2.index))\n",
    "\n",
    "print(df_obj2.index)"
   ]
  },
  {
   "cell_type": "code",
   "execution_count": null,
   "metadata": {},
   "outputs": [],
   "source": [
    "# 索引对象不可变\n",
    "df_obj2.index[0] = 2"
   ]
  },
  {
   "cell_type": "markdown",
   "metadata": {},
   "source": [
    "<br/><br/><br/><br/>"
   ]
  },
  {
   "cell_type": "markdown",
   "metadata": {},
   "source": [
    "<img style=\"float:left;\" src=\"./img/pandas_dataop.png\">"
   ]
  },
  {
   "cell_type": "code",
   "execution_count": null,
   "metadata": {},
   "outputs": [],
   "source": [
    "import pandas as pd\n",
    "ser_obj = pd.Series(range(5), index = ['a', 'b', 'c', 'd', 'e'])\n",
    "print(ser_obj.head())"
   ]
  },
  {
   "cell_type": "code",
   "execution_count": null,
   "metadata": {},
   "outputs": [],
   "source": [
    "# 行索引\n",
    "print(ser_obj['a'])\n",
    "print(ser_obj[0])"
   ]
  },
  {
   "cell_type": "code",
   "execution_count": null,
   "metadata": {},
   "outputs": [],
   "source": [
    "#  切片索引\n",
    "print(ser_obj[1:3])\n",
    "print(ser_obj['b': 'd'])"
   ]
  },
  {
   "cell_type": "code",
   "execution_count": null,
   "metadata": {},
   "outputs": [],
   "source": [
    "# 不连续索引\n",
    "print(ser_obj[[0, 2, 4]])\n",
    "print(ser_obj[['a', 'e']])"
   ]
  },
  {
   "cell_type": "code",
   "execution_count": null,
   "metadata": {},
   "outputs": [],
   "source": [
    "# 布尔索引\n",
    "ser_bool = ser_obj > 2\n",
    "print(ser_bool)\n",
    "print(ser_obj[ser_bool])\n",
    "\n",
    "print(ser_obj[ser_obj > 2])"
   ]
  },
  {
   "cell_type": "markdown",
   "metadata": {},
   "source": [
    "<img style=\"float:left;\" src=\"./img/pandas_df_index.png\">"
   ]
  },
  {
   "cell_type": "code",
   "execution_count": null,
   "metadata": {},
   "outputs": [],
   "source": [
    "import numpy as np\n",
    "df_obj = pd.DataFrame(np.random.randn(5, 4), columns = ['a', 'b', 'c', 'd'])\n",
    "print(df_obj.head())"
   ]
  },
  {
   "cell_type": "code",
   "execution_count": null,
   "metadata": {},
   "outputs": [],
   "source": [
    "# 列索引\n",
    "print('列索引')\n",
    "print(df_obj['a']) # 返回Series类型\n",
    "print(type(df_obj[[0]])) # 返回DataFrame类型 好像有问题，会报错？？？\n",
    "\n",
    "# 不连续索引\n",
    "print('不连续索引')\n",
    "print(df_obj[['a', 'c']])\n",
    "print(df_obj[[1, 3]]) # 好像有问题，会报错？？？"
   ]
  },
  {
   "cell_type": "markdown",
   "metadata": {},
   "source": [
    "<img style=\"float:left;\" src=\"./img/pandas_index_type.png\">"
   ]
  },
  {
   "cell_type": "code",
   "execution_count": null,
   "metadata": {},
   "outputs": [],
   "source": [
    "# 标签索引 loc\n",
    "# Series\n",
    "ser_obj = pd.Series(range(5), index = ['a', 'b', 'c', 'd', 'e'])\n",
    "df_obj = pd.DataFrame(np.random.randn(5, 4), columns = ['a', 'b', 'c', 'd'])\n",
    "print(ser_obj['b' : 'd'])\n",
    "print(ser_obj.loc['b' : 'd'])\n",
    "\n",
    "# DataFrame\n",
    "print(df_obj['a'])\n",
    "print(df_obj.loc[0:2, 'a'])"
   ]
  },
  {
   "cell_type": "code",
   "execution_count": null,
   "metadata": {},
   "outputs": [],
   "source": [
    "# 整形位置索引 iloc\n",
    "print(ser_obj[1:3])\n",
    "print(ser_obj.iloc[1:3])\n",
    "\n",
    "# DataFrame\n",
    "print(df_obj.iloc[0:2, 0]) # 注意和df_obj.loc[0:2, 'a']的区别"
   ]
  },
  {
   "cell_type": "code",
   "execution_count": null,
   "metadata": {},
   "outputs": [],
   "source": [
    "# 混合索引 ix\n",
    "print(ser_obj.ix[1:3])\n",
    "print(ser_obj.ix['b' : 'c'])\n",
    "\n",
    "#DataFrame\n",
    "print(df_obj.ix[0:2, 0])# 先按照标签索引尝试操作，然后再按照位置索引尝试操作"
   ]
  },
  {
   "cell_type": "markdown",
   "metadata": {},
   "source": [
    "<img style=\"float:left;\" src=\"./img/pandas_op.png\">"
   ]
  },
  {
   "cell_type": "code",
   "execution_count": null,
   "metadata": {},
   "outputs": [],
   "source": [
    "s1 = pd.Series(range(10, 20), index = range(10))\n",
    "s2 = pd.Series(range(20, 25), index = range(5))\n",
    "print(s1)\n",
    "print(s2)\n",
    "\n",
    "# Series 对齐运算\n",
    "print(s1 + s2)"
   ]
  },
  {
   "cell_type": "code",
   "execution_count": null,
   "metadata": {},
   "outputs": [],
   "source": [
    "df1 = pd.DataFrame(np.ones((2,2)), columns = ['a', 'b'])\n",
    "df2 = pd.DataFrame(np.ones((3,3)), columns = ['a', 'b', 'c'])\n",
    "\n",
    "print(df1)\n",
    "print(df2)\n",
    "\n",
    "# DataFrame对齐操作\n",
    "print(df1 + df2)"
   ]
  },
  {
   "cell_type": "code",
   "execution_count": null,
   "metadata": {},
   "outputs": [],
   "source": [
    "# 填充未对齐的数据进行计算\n",
    "\n",
    "s1.add(s2, fill_value = -1)\n",
    "df1.sub(df2, fill_value = 2.)"
   ]
  },
  {
   "cell_type": "code",
   "execution_count": null,
   "metadata": {},
   "outputs": [],
   "source": [
    "# 填充NaN\n",
    "s3 = s1 + s2\n",
    "print(s3)"
   ]
  },
  {
   "cell_type": "code",
   "execution_count": null,
   "metadata": {},
   "outputs": [],
   "source": [
    "s3_filled = s3.fillna(-1)\n",
    "print(s3_filled)"
   ]
  },
  {
   "cell_type": "code",
   "execution_count": null,
   "metadata": {},
   "outputs": [],
   "source": [
    "df3 = df1 + df2\n",
    "df3"
   ]
  },
  {
   "cell_type": "code",
   "execution_count": null,
   "metadata": {},
   "outputs": [],
   "source": [
    "df3.fillna(100, inplace = True)\n",
    "df3"
   ]
  },
  {
   "cell_type": "markdown",
   "metadata": {},
   "source": [
    "<img style=\"float:left;\" src=\"./img/pandas_funcap.png\">"
   ]
  },
  {
   "cell_type": "code",
   "execution_count": null,
   "metadata": {},
   "outputs": [],
   "source": [
    "# Numpy ufunc 函数\n",
    "df = pd.DataFrame(np.random.randn(5, 4) - 1)\n",
    "print(df)\n",
    "\n",
    "print(np.abs(df))"
   ]
  },
  {
   "cell_type": "code",
   "execution_count": null,
   "metadata": {},
   "outputs": [],
   "source": [
    "# 使用apply应用行或列数据\n",
    "print(df.apply(lambda x: x.max()))"
   ]
  },
  {
   "cell_type": "code",
   "execution_count": null,
   "metadata": {},
   "outputs": [],
   "source": [
    "# 指定轴方向\n",
    "print(df.apply(lambda x: x.max(), axis=1))"
   ]
  },
  {
   "cell_type": "code",
   "execution_count": null,
   "metadata": {},
   "outputs": [],
   "source": [
    "# 使用applymap应用到每个数据\n",
    "print(df.applymap(lambda x: '%.2f' % x))"
   ]
  },
  {
   "cell_type": "markdown",
   "metadata": {},
   "source": [
    "<img style=\"float:left;\" src=\"./img/pandas_sort.png\">"
   ]
  },
  {
   "cell_type": "code",
   "execution_count": null,
   "metadata": {},
   "outputs": [],
   "source": [
    "s4 = pd.Series(range(10, 15), index = np.random.randint(5, size=5))\n",
    "print(s4)"
   ]
  },
  {
   "cell_type": "code",
   "execution_count": null,
   "metadata": {},
   "outputs": [],
   "source": [
    "# 索引排序\n",
    "s4.sort_index()"
   ]
  },
  {
   "cell_type": "code",
   "execution_count": null,
   "metadata": {},
   "outputs": [],
   "source": [
    "df4 = pd.DataFrame(np.random.randn(3,4), \n",
    "                   index=np.random.randint(3, size=3),\n",
    "                   columns=np.random.randint(4, size=4))\n",
    "df4"
   ]
  },
  {
   "cell_type": "code",
   "execution_count": null,
   "metadata": {},
   "outputs": [],
   "source": [
    "#df4.sort_index(ascending=False)\n",
    "df4.sort_index(axis=1)"
   ]
  },
  {
   "cell_type": "code",
   "execution_count": null,
   "metadata": {},
   "outputs": [],
   "source": [
    "# 按值排序\n",
    "df4.sort_values(by=2)"
   ]
  },
  {
   "cell_type": "markdown",
   "metadata": {},
   "source": [
    "<img style=\"float:left;\" src=\"./img/pandas_dropfill.png\">"
   ]
  },
  {
   "cell_type": "code",
   "execution_count": null,
   "metadata": {
    "scrolled": true
   },
   "outputs": [],
   "source": [
    "df_data = pd.DataFrame([np.random.randn(3), [1., np.nan, np.nan],\n",
    "                        [4., np.nan, np.nan], [1., np.nan, 2.]])\n",
    "df_data"
   ]
  },
  {
   "cell_type": "code",
   "execution_count": null,
   "metadata": {},
   "outputs": [],
   "source": [
    "# isnull\n",
    "df_data.isnull()"
   ]
  },
  {
   "cell_type": "code",
   "execution_count": null,
   "metadata": {},
   "outputs": [],
   "source": [
    "# dropna\n",
    "df_data.dropna()\n",
    "# df_data.dropna(axis=1)"
   ]
  },
  {
   "cell_type": "code",
   "execution_count": null,
   "metadata": {},
   "outputs": [],
   "source": [
    "# fillna\n",
    "df_data.fillna(-100.)"
   ]
  },
  {
   "cell_type": "markdown",
   "metadata": {},
   "source": [
    "<br/><br/><br/><br/>"
   ]
  },
  {
   "cell_type": "markdown",
   "metadata": {},
   "source": [
    "<img style=\"float:left;\" src=\"./img/pandas_stat.png\">"
   ]
  },
  {
   "cell_type": "code",
   "execution_count": null,
   "metadata": {},
   "outputs": [],
   "source": [
    "import numpy as np\n",
    "import pandas as pd"
   ]
  },
  {
   "cell_type": "code",
   "execution_count": null,
   "metadata": {},
   "outputs": [],
   "source": [
    "df_obj = pd.DataFrame(np.random.randn(5,4),columns=['a', 'b', 'c', 'd'])\n",
    "df_obj"
   ]
  },
  {
   "cell_type": "code",
   "execution_count": null,
   "metadata": {},
   "outputs": [],
   "source": [
    "df_obj.sum()"
   ]
  },
  {
   "cell_type": "code",
   "execution_count": null,
   "metadata": {},
   "outputs": [],
   "source": [
    "df_obj.max()"
   ]
  },
  {
   "cell_type": "code",
   "execution_count": null,
   "metadata": {},
   "outputs": [],
   "source": [
    "df_obj.min(axis=1)"
   ]
  },
  {
   "cell_type": "code",
   "execution_count": null,
   "metadata": {},
   "outputs": [],
   "source": [
    "df_obj.describe()"
   ]
  },
  {
   "cell_type": "markdown",
   "metadata": {},
   "source": [
    "<img style=\"float:center;\" src=\"./img/pandas_stat_func.png\">"
   ]
  },
  {
   "cell_type": "markdown",
   "metadata": {},
   "source": [
    "<br/><br/><br/><br/>"
   ]
  },
  {
   "cell_type": "markdown",
   "metadata": {},
   "source": [
    "<img style=\"float:left;\" src=\"./img/pandas_hierarch.png\">"
   ]
  },
  {
   "cell_type": "code",
   "execution_count": null,
   "metadata": {},
   "outputs": [],
   "source": [
    "import pandas as pd\n",
    "import numpy as np"
   ]
  },
  {
   "cell_type": "code",
   "execution_count": null,
   "metadata": {},
   "outputs": [],
   "source": [
    "ser_obj = pd.Series(np.random.randn(12),\n",
    "                    index=[['a', 'a', 'a', 'b', 'b', 'b', 'c', 'c', 'c', 'd', 'd', 'd'], \n",
    "                           [0, 1, 2, 0, 1, 2, 0, 1, 2, 0, 1, 2]])\n",
    "\n",
    "print(ser_obj)"
   ]
  },
  {
   "cell_type": "markdown",
   "metadata": {},
   "source": [
    "* ## MultilIndex索引对象"
   ]
  },
  {
   "cell_type": "code",
   "execution_count": null,
   "metadata": {},
   "outputs": [],
   "source": [
    "type(ser_obj.index)\n",
    "ser_obj.index"
   ]
  },
  {
   "cell_type": "markdown",
   "metadata": {},
   "source": [
    "* ## 选取子集\n"
   ]
  },
  {
   "cell_type": "code",
   "execution_count": null,
   "metadata": {},
   "outputs": [],
   "source": [
    "# 外层选取\n",
    "ser_obj['c']"
   ]
  },
  {
   "cell_type": "code",
   "execution_count": null,
   "metadata": {},
   "outputs": [],
   "source": [
    "# 内层选取\n",
    "ser_obj[:, 2]"
   ]
  },
  {
   "cell_type": "markdown",
   "metadata": {},
   "source": [
    "* ## 交换分层顺序"
   ]
  },
  {
   "cell_type": "code",
   "execution_count": null,
   "metadata": {},
   "outputs": [],
   "source": [
    "ser_obj.swaplevel()"
   ]
  },
  {
   "cell_type": "markdown",
   "metadata": {},
   "source": [
    "* ## 交换并排序分层"
   ]
  },
  {
   "cell_type": "code",
   "execution_count": null,
   "metadata": {},
   "outputs": [],
   "source": [
    "ser_obj.swaplevel().sortlevel()"
   ]
  },
  {
   "cell_type": "markdown",
   "metadata": {},
   "source": [
    "<img style=\"float:left;\" src=\"./img/pandas_swap.png\">"
   ]
  },
  {
   "cell_type": "markdown",
   "metadata": {},
   "source": [
    "<br/><br/><br/><br/>"
   ]
  },
  {
   "cell_type": "markdown",
   "metadata": {},
   "source": [
    "<img style=\"float:left;\" src=\"./img/pandas_group.png\">"
   ]
  },
  {
   "cell_type": "markdown",
   "metadata": {},
   "source": [
    "* ## GroupBy对象"
   ]
  },
  {
   "cell_type": "code",
   "execution_count": null,
   "metadata": {},
   "outputs": [],
   "source": [
    "import pandas as pd\n",
    "import numpy as np"
   ]
  },
  {
   "cell_type": "code",
   "execution_count": null,
   "metadata": {},
   "outputs": [],
   "source": [
    "dict_obj = {'key1': ['a', 'b', 'a', 'b', 'a', 'b', 'a', 'a'],\n",
    "            'key2': ['one', 'one', 'two', 'three',\n",
    "                     'two', 'two', 'one', 'three'],\n",
    "            'data1': np.random.randint(1,10,(8)),\n",
    "            'data2': np.random.randint(1,10,(8))}\n",
    "df_obj = pd.DataFrame(dict_obj)\n",
    "df_obj"
   ]
  },
  {
   "cell_type": "code",
   "execution_count": null,
   "metadata": {},
   "outputs": [],
   "source": [
    "# dataframe 根据key1进行分组\n",
    "type(df_obj.groupby('key1'))"
   ]
  },
  {
   "cell_type": "code",
   "execution_count": null,
   "metadata": {},
   "outputs": [],
   "source": [
    "# data1列根据key1进行分组\n",
    "type(df_obj['data1'].groupby(df_obj['key1']))"
   ]
  },
  {
   "cell_type": "code",
   "execution_count": null,
   "metadata": {},
   "outputs": [],
   "source": [
    "# 分组运算\n",
    "grouped1 = df_obj.groupby('key1')\n",
    "print(grouped1.mean())\n",
    "\n",
    "grouped2 = df_obj['data1'].groupby(df_obj['key1'])\n",
    "print(grouped2.mean())"
   ]
  },
  {
   "cell_type": "code",
   "execution_count": null,
   "metadata": {},
   "outputs": [],
   "source": [
    "grouped1.size()\n",
    "grouped2.size()"
   ]
  },
  {
   "cell_type": "code",
   "execution_count": null,
   "metadata": {},
   "outputs": [],
   "source": [
    "# 按列名分组\n",
    "df_obj.groupby('key1')"
   ]
  },
  {
   "cell_type": "code",
   "execution_count": null,
   "metadata": {},
   "outputs": [],
   "source": [
    "# 按自定义key分组，列表\n",
    "self_def_key = [1, 1, 2, 2, 2, 1, 1, 1]\n",
    "df_obj.groupby(self_def_key).size()"
   ]
  },
  {
   "cell_type": "code",
   "execution_count": null,
   "metadata": {},
   "outputs": [],
   "source": [
    "# 按自定义key分组，多层列表\n",
    "df_obj.groupby([df_obj['key1'], df_obj['key2']]).size()"
   ]
  },
  {
   "cell_type": "code",
   "execution_count": null,
   "metadata": {},
   "outputs": [],
   "source": [
    "# 按多个列多层分组\n",
    "grouped2 = df_obj.groupby(['key1', 'key2'])\n",
    "grouped2.size()"
   ]
  },
  {
   "cell_type": "code",
   "execution_count": null,
   "metadata": {
    "scrolled": true
   },
   "outputs": [],
   "source": [
    "# 多层分组按key得顺序进行\n",
    "grouped3 = df_obj.groupby(['key2', 'key1'])\n",
    "grouped3.mean()\n",
    "grouped3.mean().unstack()"
   ]
  },
  {
   "cell_type": "markdown",
   "metadata": {},
   "source": [
    "<img style=\"float:left;\" src=\"./img/pandas_group_iter.png\">"
   ]
  },
  {
   "cell_type": "markdown",
   "metadata": {},
   "source": [
    "* ## GroupBy对象分组迭代"
   ]
  },
  {
   "cell_type": "code",
   "execution_count": null,
   "metadata": {
    "scrolled": true
   },
   "outputs": [],
   "source": [
    "# 单层分组\n",
    "for group_name, group_data in grouped1:\n",
    "    print(group_name)\n",
    "    print(group_data)"
   ]
  },
  {
   "cell_type": "code",
   "execution_count": null,
   "metadata": {},
   "outputs": [],
   "source": [
    "# 多层分组\n",
    "for group_name, group_data in grouped2:\n",
    "    print(group_name)\n",
    "    print(group_data)"
   ]
  },
  {
   "cell_type": "code",
   "execution_count": null,
   "metadata": {},
   "outputs": [],
   "source": [
    "# GroupBy对象转换list\n",
    "list(grouped1)"
   ]
  },
  {
   "cell_type": "code",
   "execution_count": null,
   "metadata": {},
   "outputs": [],
   "source": [
    "# GroupBy对象转换dict\n",
    "dict(list(grouped1))"
   ]
  },
  {
   "cell_type": "code",
   "execution_count": null,
   "metadata": {},
   "outputs": [],
   "source": [
    "# print(df_obj.dtypes)\n",
    "\n",
    "#按数据类型分组\n",
    "# df_obj.groupby(df_obj.dtypes, axis=1).size()\n",
    "df_obj.groupby(df_obj.dtypes, axis=1).sum()"
   ]
  },
  {
   "cell_type": "markdown",
   "metadata": {},
   "source": [
    "* ## 其他分组方法"
   ]
  },
  {
   "cell_type": "code",
   "execution_count": null,
   "metadata": {},
   "outputs": [],
   "source": [
    "df_obj2 = pd.DataFrame(np.random.randint(1, 10, (5,5)),\n",
    "                       columns=['a', 'b', 'c', 'd', 'e'],\n",
    "                       index=['A', 'B', 'C', 'D', 'E'])\n",
    "df_obj2.iloc[1, 1:4] = np.NaN\n",
    "df_obj2"
   ]
  },
  {
   "cell_type": "code",
   "execution_count": null,
   "metadata": {},
   "outputs": [],
   "source": [
    "# 通过字典分组\n",
    "mapping_dict = {'a':'Python', 'b':'python', 'c':'java', 'd':'C', 'e':'java'}\n",
    "df_obj2.groupby(mapping_dict, axis=1).size()\n",
    "df_obj2.groupby(mapping_dict, axis=1).count() # 非NaN的个数\n",
    "df_obj2.groupby(mapping_dict, axis=1).sum()"
   ]
  },
  {
   "cell_type": "code",
   "execution_count": null,
   "metadata": {},
   "outputs": [],
   "source": [
    "# 通过函数分组\n",
    "df_obj3 = pd.DataFrame(np.random.randint(1, 10, (5,5)),\n",
    "                       columns=['a', 'b', 'c', 'd', 'e'],\n",
    "                       index=['AA', 'BBB', 'CC', 'D', 'EE'])\n",
    "df_obj3"
   ]
  },
  {
   "cell_type": "code",
   "execution_count": null,
   "metadata": {},
   "outputs": [],
   "source": [
    "def group_key(idx):\n",
    "    \"\"\"\n",
    "        idx 为列索引或行索引\n",
    "    \"\"\"\n",
    "    #return idx\n",
    "    return len(idx)\n",
    "\n",
    "df_obj3.groupby(group_key).size()\n",
    "\n",
    "# 以上自定义函数等价于\n",
    "#df_obj3.groupby(len).size()"
   ]
  },
  {
   "cell_type": "code",
   "execution_count": null,
   "metadata": {},
   "outputs": [],
   "source": [
    "# 通过索引级别分组\n",
    "columns = pd.MultiIndex.from_arrays([['Python', 'Java', 'Python', 'Java', 'Python'],\n",
    "                                     ['A', 'A', 'B', 'C', 'B']], names=['language', 'index'])\n",
    "df_obj4 = pd.DataFrame(np.random.randint(1, 10, (5,5)), columns=columns)\n",
    "df_obj4"
   ]
  },
  {
   "cell_type": "code",
   "execution_count": null,
   "metadata": {},
   "outputs": [],
   "source": [
    "# 根据language进行分组\n",
    "df_obj4.groupby(level='language', axis=1).sum()\n",
    "df_obj4.groupby(level='index', axis=1).sum()"
   ]
  },
  {
   "cell_type": "markdown",
   "metadata": {},
   "source": [
    "<br/><br/><br/><br/>"
   ]
  },
  {
   "cell_type": "markdown",
   "metadata": {},
   "source": [
    "<img style=\"float:left;\" src=\"./img/pandas_aggre.png\">"
   ]
  },
  {
   "cell_type": "markdown",
   "metadata": {},
   "source": [
    "* ## 聚合"
   ]
  },
  {
   "cell_type": "code",
   "execution_count": null,
   "metadata": {},
   "outputs": [],
   "source": [
    "import pandas as pd\n",
    "import numpy as np\n",
    "\n",
    "dict_obj = {'key1': ['a', 'b', 'a', 'b',\n",
    "                     'a', 'b', 'a', 'a'],\n",
    "            'key2': ['one', 'one', 'two', 'three',\n",
    "                     'two', 'two', 'one', 'three'],\n",
    "            'data1': np.random.randint(1,10,8),\n",
    "            'data2': np.random.randint(1,10,8)}\n",
    "df_obj5 = pd.DataFrame(dict_obj)\n",
    "df_obj5"
   ]
  },
  {
   "cell_type": "code",
   "execution_count": null,
   "metadata": {},
   "outputs": [],
   "source": [
    "# 内置的聚合函数\n",
    "\n",
    "print(df_obj5.groupby('key1').sum())\n",
    "print(df_obj5.groupby('key1').max())\n",
    "print(df_obj5.groupby('key1').min())\n",
    "print(df_obj5.groupby('key1').mean())\n",
    "print(df_obj5.groupby('key1').size())\n",
    "print(df_obj5.groupby('key1').count())\n",
    "print(df_obj5.groupby('key1').describe())"
   ]
  },
  {
   "cell_type": "code",
   "execution_count": null,
   "metadata": {},
   "outputs": [],
   "source": [
    "# 自定义聚合函数\n",
    "def peak_range(df):\n",
    "    \"\"\"\n",
    "        返回数值范围\n",
    "    \"\"\"\n",
    "    #print(type(df)) #参数为索引所对应的记录\n",
    "    return df.max() - df.min()\n",
    "\n",
    "print(df_obj5.groupby('key1').agg(peak_range))\n",
    "print(df_obj5.groupby('key1').agg(lambda df: df.max() - df.min()))"
   ]
  },
  {
   "cell_type": "markdown",
   "metadata": {},
   "source": [
    "<img style=\"float:left;\" src=\"./img/pandas_aggre_mul.png\">"
   ]
  },
  {
   "cell_type": "code",
   "execution_count": null,
   "metadata": {},
   "outputs": [],
   "source": [
    "# 应用多个聚合函数\n",
    "\n",
    "#同时应用多个聚合函数\n",
    "print(df_obj5.groupby('key1').agg(['mean', 'std', 'count', peak_range])) # 默认列名为函数名"
   ]
  },
  {
   "cell_type": "code",
   "execution_count": null,
   "metadata": {},
   "outputs": [],
   "source": [
    "print(df_obj5.groupby('key1').agg(['mean', 'std', 'count', ('range', peak_range)]))"
   ]
  },
  {
   "cell_type": "code",
   "execution_count": null,
   "metadata": {},
   "outputs": [],
   "source": [
    "# 每列作用不同的聚合函数\n",
    "dict_mapping = {'data1':'mean',\n",
    "                'data2':'sum'}\n",
    "print(df_obj5.groupby('key1').agg(dict_mapping))"
   ]
  },
  {
   "cell_type": "markdown",
   "metadata": {},
   "source": [
    "<img style=\"float:left;\" src=\"./img/pandas_aggre_func.png\">"
   ]
  },
  {
   "cell_type": "markdown",
   "metadata": {},
   "source": [
    "<br/><br/><br/><br/>"
   ]
  },
  {
   "cell_type": "markdown",
   "metadata": {},
   "source": [
    "<img style=\"float:left;\" src=\"./img/pandas_group_argi.png\">"
   ]
  },
  {
   "cell_type": "markdown",
   "metadata": {},
   "source": [
    "# 数据分组运算"
   ]
  },
  {
   "cell_type": "code",
   "execution_count": null,
   "metadata": {},
   "outputs": [],
   "source": [
    "import pandas as pd\n",
    "import numpy as np\n",
    "# 分组运算后保持shape\n",
    "dict_obj = {'key1' : ['a', 'b', 'a', 'b',\n",
    "                      'a', 'b', 'a', 'a'],\n",
    "            'key2' : ['one', 'one', 'two', 'three',\n",
    "                      'two', 'two', 'one', 'three'],\n",
    "            'data1' : np.random.randint(1, 10, 8),\n",
    "            'data2' : np.random.randint(1, 10, 8)}\n",
    "\n",
    "df_obj = pd.DataFrame(dict_obj)\n",
    "df_obj"
   ]
  },
  {
   "cell_type": "code",
   "execution_count": null,
   "metadata": {},
   "outputs": [],
   "source": [
    "# 按key1分组后，计算data1，data2的统计信息并附加到原始表格中\n",
    "k1_sum = df_obj.groupby('key1').sum().add_prefix('sum_')\n",
    "k1_sum"
   ]
  },
  {
   "cell_type": "code",
   "execution_count": null,
   "metadata": {},
   "outputs": [],
   "source": [
    "# 方法1，使用merge\n",
    "pd.merge(df_obj, k1_sum, left_on='key1', right_index=True)"
   ]
  },
  {
   "cell_type": "markdown",
   "metadata": {},
   "source": [
    "* ## transform方法"
   ]
  },
  {
   "cell_type": "code",
   "execution_count": null,
   "metadata": {},
   "outputs": [],
   "source": [
    "# 方法2，使用transform\n",
    "k1_sum_tf = df_obj.groupby('key1').transform(np.sum).add_prefix('sum_')\n",
    "df_obj[k1_sum_tf.columns] = k1_sum_tf\n",
    "df_obj"
   ]
  },
  {
   "cell_type": "code",
   "execution_count": null,
   "metadata": {},
   "outputs": [],
   "source": [
    "# 自定义函数传入transform\n",
    "def diff_mean(s):\n",
    "    \"\"\"\n",
    "        返回数据与均值的差值\n",
    "    \"\"\"\n",
    "    return s - s.mean()\n",
    "\n",
    "df_obj.groupby('key1'.transform(diff_mean))"
   ]
  },
  {
   "cell_type": "code",
   "execution_count": null,
   "metadata": {},
   "outputs": [],
   "source": [
    "dataset_path = './startcraft.csv'\n",
    "df_data = pd.read_csv(dataset_path, usecols=['LeagueIndex', 'Age', 'HoursPerweek', 'TotalHours', 'APM'])"
   ]
  },
  {
   "cell_type": "markdown",
   "metadata": {},
   "source": [
    "<img style=\"float:left;\" src=\"./img/pandas_dataflush.png\">"
   ]
  },
  {
   "cell_type": "markdown",
   "metadata": {},
   "source": [
    "<img style=\"float:left;\" src=\"./img/pandas_merge.png\">"
   ]
  },
  {
   "cell_type": "code",
   "execution_count": null,
   "metadata": {},
   "outputs": [],
   "source": [
    "import pandas as pd\n",
    "import numpy as np\n",
    "\n",
    "df_obj1 = pd.DataFrame({'key' : ['b', 'b', 'a', 'c', 'a', 'a', 'b'],\n",
    "                        'data1' : np.random.randint(0, 10, 7)})\n",
    "df_obj2 = pd.DataFrame({'key' : ['a', 'b', 'd'],\n",
    "                        'data2' : np.random.randint(0, 10, 3)})\n",
    "print(df_obj1)\n",
    "print(df_obj2)"
   ]
  },
  {
   "cell_type": "code",
   "execution_count": null,
   "metadata": {},
   "outputs": [],
   "source": [
    "# 默认将重叠列的列名作为\"外键\"进行连接\n",
    "pd.merge(df_obj1, df_obj2)"
   ]
  },
  {
   "cell_type": "code",
   "execution_count": null,
   "metadata": {},
   "outputs": [],
   "source": [
    "# on 显示指定\"外键\"\n",
    "pd.merge(df_obj1, df_obj2, on='key')"
   ]
  },
  {
   "cell_type": "code",
   "execution_count": null,
   "metadata": {},
   "outputs": [],
   "source": [
    "# left_on, right_on分别指定左侧数据和右侧数据的\"外键\"\n",
    "\n",
    "# 更改列名\n",
    "df_obj1 = df_obj1.rename(columns={'key':'key1'})\n",
    "df_obj2 = df_obj2.rename(columns={'key':'key2'})"
   ]
  },
  {
   "cell_type": "code",
   "execution_count": null,
   "metadata": {},
   "outputs": [],
   "source": [
    "pd.merge(df_obj1, df_obj2, left_on='key1', right_on='key2')"
   ]
  },
  {
   "cell_type": "code",
   "execution_count": null,
   "metadata": {},
   "outputs": [],
   "source": [
    "# \"外连接\"\n",
    "pd.merge(df_obj1, df_obj2, left_on='key1', right_on='key2', how='outer')"
   ]
  },
  {
   "cell_type": "code",
   "execution_count": null,
   "metadata": {},
   "outputs": [],
   "source": [
    "# \"左连接\"\n",
    "pd.merge(df_obj1, df_obj2, left_on='key1', right_on='key2', how='left')"
   ]
  },
  {
   "cell_type": "code",
   "execution_count": null,
   "metadata": {},
   "outputs": [],
   "source": [
    "# \"右连接\"\n",
    "pd.merge(df_obj1, df_obj2, left_on='key1', right_on='key2', how='right')"
   ]
  },
  {
   "cell_type": "markdown",
   "metadata": {},
   "source": [
    "<img style=\"float:left;\" src=\"./img/pandas_dataconcat.png\">"
   ]
  },
  {
   "cell_type": "markdown",
   "metadata": {},
   "source": [
    "<img style=\"float:left;\" src=\"./img/pandas_datastack.png\">"
   ]
  },
  {
   "cell_type": "code",
   "execution_count": null,
   "metadata": {},
   "outputs": [],
   "source": [
    "import pandas as pd\n",
    "import numpy as np"
   ]
  },
  {
   "cell_type": "markdown",
   "metadata": {},
   "source": [
    "* ## stack"
   ]
  },
  {
   "cell_type": "code",
   "execution_count": null,
   "metadata": {},
   "outputs": [],
   "source": [
    "df_obj = pd.DataFrame(np.random.randint(0,10,(5,2)), columns=['data1', 'data2'])\n",
    "df_obj"
   ]
  },
  {
   "cell_type": "code",
   "execution_count": null,
   "metadata": {},
   "outputs": [],
   "source": [
    "stacked = df_obj.stack()\n",
    "stacked"
   ]
  },
  {
   "cell_type": "code",
   "execution_count": null,
   "metadata": {},
   "outputs": [],
   "source": [
    "print(type(stacked))\n",
    "print(stacked.index)"
   ]
  },
  {
   "cell_type": "code",
   "execution_count": null,
   "metadata": {},
   "outputs": [],
   "source": [
    "# 默认操作内层索引\n",
    "stacked.unstack()"
   ]
  },
  {
   "cell_type": "markdown",
   "metadata": {},
   "source": [
    "<img style=\"float:left;\" src=\"./img/pandas_datadupli.png\">"
   ]
  },
  {
   "cell_type": "markdown",
   "metadata": {},
   "source": [
    "<br/><br/><br/><br/>"
   ]
  },
  {
   "cell_type": "markdown",
   "metadata": {},
   "source": [
    "<img style=\"float:center;\" src=\"./img/pandas_kmeans.png\">"
   ]
  },
  {
   "cell_type": "markdown",
   "metadata": {},
   "source": [
    "* ## 实例"
   ]
  },
  {
   "cell_type": "code",
   "execution_count": null,
   "metadata": {},
   "outputs": [],
   "source": [
    "# kmeans_tool.py\n",
    "\n",
    "import math\n",
    "import random\n",
    "\n",
    "class Cluster(object):\n",
    "    \"\"\"\n",
    "        聚类\n",
    "    \"\"\"\n",
    "    def __init__(self, samples):\n",
    "        if len(samples) == 0:\n",
    "            # 如果聚类中无样本点\n",
    "            raise Exception(\"错误：一个空的聚类！\")\n",
    "\n",
    "        # 属于该聚类的样本点\n",
    "        self.samples = samples\n",
    "\n",
    "        # 该聚类中样本点的维度\n",
    "        self.n_dim = samples[0].n_dim\n",
    "\n",
    "        # 判断该聚类中所有样本点的维度是否相同\n",
    "        for sample in samples:\n",
    "            if sample.n_dim != self.n_dim:\n",
    "                raise Exception(\"错误，聚类中样本点的维度不一致！\")\n",
    "\n",
    "        # 设置初始化的聚类中心\n",
    "        self.centroid = self.cal_centroid()\n",
    "\n",
    "    def __repr__(self):\n",
    "        return str(self.samples)\n",
    "\n",
    "    def update(self, samples):\n",
    "        old_centroid = self.centroid\n",
    "        self.samples = samples\n",
    "        self.centroid = self.cal_centroid()\n",
    "        shift = get_distance(old_centroid, self.centroid)\n",
    "        return shift\n",
    "\n",
    "    def cal_centroid(self):\n",
    "        n_samples = len(self.samples)\n",
    "        coords = [sample.coords for sample in self.samples]\n",
    "        unzipped = zip(*coords)\n",
    "        centroid_coords = [math.fsum(d_list)/n_samples for d_list in unzipped]\n",
    "        return Sample(centroid_coords)\n",
    "\n",
    "class Sample(object):\n",
    "    \"\"\"\n",
    "        样本点类\n",
    "    \"\"\"\n",
    "    def __init__(self, coords):\n",
    "        self.coords = coords # 样本点包含的坐标\n",
    "        self.n_dim = len(coords) # 样本点维度\n",
    "\n",
    "    def __repr__(self):\n",
    "        \"\"\"\n",
    "            输出对象信息\n",
    "        \"\"\"\n",
    "        return str(self.coords)\n",
    "\n",
    "def get_distance(a, b):\n",
    "    \"\"\"\n",
    "        返回样本点a, b的欧式距离\n",
    "    \"\"\"\n",
    "    if a.n_dim != b.n_dim:\n",
    "        # 如果样本点维度不同\n",
    "        raise Exception(\"错误，样本点维度不同，无法计算距离！\")\n",
    "\n",
    "    acc_diff = 0.0\n",
    "    for i in range(a.n_dim):\n",
    "        square_diff = pow((a.coords[i] - b.coords[i]), 2)\n",
    "        acc_diff += square_diff\n",
    "    distance = math.sqrt(acc_diff)\n",
    "    return distance\n",
    "\n",
    "def gen_random_sample(n_dim, lower, upper):\n",
    "    \"\"\"\n",
    "        生成随机样本\n",
    "    \"\"\"\n",
    "    sample = Sample([random.uniform(lower, upper) for _ in range(n_dim)])\n",
    "    return sample"
   ]
  },
  {
   "cell_type": "code",
   "execution_count": null,
   "metadata": {},
   "outputs": [],
   "source": [
    "# main.py\n",
    "\n",
    "import random\n",
    "from kmeans_tools import Cluster, get_distance, gen_random_sample\n",
    "import matplotlib.pyplot as plt\n",
    "from matplotlib import colors as mcolors\n",
    "\n",
    "def kmeans(samples, k, cutoff):\n",
    "    \"\"\"\n",
    "        kmeans函数\n",
    "    \"\"\"\n",
    "    # 随机选k个样本点作为初始聚类中心\n",
    "    init_samples = random.sample(samples, k)\n",
    "\n",
    "    # 创建k个聚类，聚类的中心分别为随机初始的样本点\n",
    "    clusters = [Cluster([sample]) for sample in init_samples]\n",
    "\n",
    "    # 迭代循环直到聚类划分稳定\n",
    "    n_loop = 0\n",
    "    while True:\n",
    "        # 初始化一组空列表用于存储每个聚类的样本点\n",
    "        lists = [[]for _ in clusters]\n",
    "\n",
    "        # 开始迭代\n",
    "        n_loop += 1\n",
    "        # 遍历样本集中的每个样本\n",
    "        for sample in samples:\n",
    "            # 遍历样本点Sample和第一个聚类中心的距离\n",
    "            smallest_distance = get_distance(sample, clusters[0].centroid)\n",
    "            # 初始化属于聚类 0\n",
    "            cluster_index = 0\n",
    "\n",
    "            # 计算和其他聚类中心的距离\n",
    "            for i in range(k - 1):\n",
    "                # 计算样本点sample和聚类中心的距离\n",
    "                distance = get_distance(sample, clusters[i+1].centroid)\n",
    "                # 如果存在更小的距离，更新距离\n",
    "                if distance < smallest_distance:\n",
    "                    smallest_distance = distance\n",
    "                    cluster_index = i + 1\n",
    "\n",
    "            # 找到最近的聚类中心，更新所属聚类\n",
    "            lists[cluster_index].append(sample)\n",
    "\n",
    "        # 初始化最大移动距离\n",
    "        biggest_shift = 0.0\n",
    "\n",
    "        # 计算本次迭代中，聚类中心移动的距离\n",
    "        for i in range(k):\n",
    "            shift = clusters[i].update(lists[i])\n",
    "            # 记录最大移动距离\n",
    "            biggest_shift = max(biggest_shift, shift)\n",
    "\n",
    "        # 如果聚类中心移动的距离小于收敛阈值，即：聚类稳定\n",
    "        if biggest_shift < cutoff:\n",
    "            print(\"第{}次迭代后，聚类稳定。\".format(n_loop))\n",
    "            break\n",
    "\n",
    "    # 返回聚类结果\n",
    "    return clusters\n",
    "\n",
    "def run_main():\n",
    "    \"\"\"\n",
    "        主函数\n",
    "    \"\"\"\n",
    "\n",
    "    # 样本个数\n",
    "    n_samples = 1000\n",
    "\n",
    "    # 特征个数(特征维度)\n",
    "    n_feat = 2\n",
    "\n",
    "    # 特征数值范围\n",
    "    lower = 0\n",
    "    upper = 200\n",
    "\n",
    "    # 聚类个数\n",
    "    n_cluster = 3\n",
    "\n",
    "    # 生成随机样本\n",
    "    samples = [gen_random_sample(n_feat, lower, upper) for _ in range(n_samples)]\n",
    "\n",
    "    # 收敛阈值\n",
    "    cutoff = 0.2\n",
    "\n",
    "    clusters = kmeans(samples, n_cluster, cutoff)\n",
    "\n",
    "    # 输出结果\n",
    "    for i, c in enumerate(clusters):\n",
    "        for sample in c.samples:\n",
    "            print('聚类--{}，样本点--{}'.format(i, sample))\n",
    "\n",
    "    # 可视化结果\n",
    "    plt.subplot()\n",
    "    color_names = list(mcolors.cnames)\n",
    "    for i, c in enumerate(clusters):\n",
    "        x = []\n",
    "        y = []\n",
    "        random.choice\n",
    "        color = [color_names[i]] * len(c.samples)\n",
    "        for sample in c.samples:\n",
    "            x.append(sample.coords[0])\n",
    "            y.append(sample.coords[1])\n",
    "        plt.scatter(x, y, c=color)\n",
    "\n",
    "    plt.show()\n",
    "\n",
    "if __name__ == '__main__':\n",
    "    run_main()"
   ]
  },
  {
   "cell_type": "markdown",
   "metadata": {},
   "source": [
    "![](./python-small-examples-master/img/image-20200624094502807.png)"
   ]
  },
  {
   "cell_type": "code",
   "execution_count": null,
   "metadata": {},
   "outputs": [],
   "source": []
  }
 ],
 "metadata": {
  "kernelspec": {
   "display_name": "Python 3",
   "language": "python",
   "name": "python3"
  },
  "language_info": {
   "codemirror_mode": {
    "name": "ipython",
    "version": 3
   },
   "file_extension": ".py",
   "mimetype": "text/x-python",
   "name": "python",
   "nbconvert_exporter": "python",
   "pygments_lexer": "ipython3",
   "version": "3.6.4"
  }
 },
 "nbformat": 4,
 "nbformat_minor": 2
}
