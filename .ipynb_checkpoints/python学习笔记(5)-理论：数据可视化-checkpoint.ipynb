{
 "cells": [
  {
   "cell_type": "markdown",
   "metadata": {},
   "source": [
    "<img src=\"./img/dataview_outline.png\"> \n",
    "[r](#reg)"
   ]
  },
  {
   "cell_type": "markdown",
   "metadata": {},
   "source": [
    "<br><br><br><br>"
   ]
  },
  {
   "cell_type": "markdown",
   "metadata": {},
   "source": [
    "## <font size='7'>matplotlib</font>"
   ]
  },
  {
   "cell_type": "code",
   "execution_count": null,
   "metadata": {
    "scrolled": true
   },
   "outputs": [],
   "source": [
    "#引入matplotlib包\n",
    "import matplotlib.pyplot as plt\n"
   ]
  },
  {
   "cell_type": "markdown",
   "metadata": {},
   "source": [
    "<img style=\"float:left;\" src=\"./img/dataview_figure.png\">"
   ]
  },
  {
   "cell_type": "markdown",
   "metadata": {},
   "source": [
    "* ### figure"
   ]
  },
  {
   "cell_type": "code",
   "execution_count": null,
   "metadata": {
    "scrolled": true
   },
   "outputs": [],
   "source": [
    "# 创建figure\n",
    "fig = plt.figure()"
   ]
  },
  {
   "cell_type": "markdown",
   "metadata": {},
   "source": [
    "<img style=\"float:left;\" src=\"./img/dataview_add_subplot.png\">"
   ]
  },
  {
   "cell_type": "markdown",
   "metadata": {},
   "source": [
    "* ### subplot"
   ]
  },
  {
   "cell_type": "code",
   "execution_count": null,
   "metadata": {
    "scrolled": true
   },
   "outputs": [],
   "source": [
    "ax1 = fig.add_subplot(2,2,1)\n",
    "ax2 = fig.add_subplot(2,2,2)\n",
    "ax3 = fig.add_subplot(2,2,3)\n",
    "ax4 = fig.add_subplot(2,2,4)"
   ]
  },
  {
   "cell_type": "code",
   "execution_count": null,
   "metadata": {
    "scrolled": true
   },
   "outputs": [],
   "source": [
    "# 在subpot上作图\n",
    "import numpy as np\n",
    "\n",
    "random_arr = np.random.randn(100)\n",
    "print(random_arr)\n",
    "\n",
    "# 默认是在最后一次使用subplot的位置上作图，但是在jupyter里无效\n",
    "plt.plot(random_arr)\n",
    "plt.show()"
   ]
  },
  {
   "cell_type": "code",
   "execution_count": null,
   "metadata": {
    "scrolled": true
   },
   "outputs": [],
   "source": [
    "# 在指定subplot作图\n",
    "\n",
    "import scipy as sp\n",
    "from scipy import stats\n",
    "\n",
    "x = np.linspace(-5, 15, 50)\n",
    "print(x.shape)\n",
    "\n",
    "#绘制高斯分布\n",
    "plt.plot(x, sp.stats.norm.pdf(x=x, loc=5, scale=2))\n",
    "\n",
    "# 叠加直方图\n",
    "plt.hist(sp.stats.norm.rvs(loc=5, scale=2, size=200), bins=50, normed=True, color='r')\n",
    "plt.show()"
   ]
  },
  {
   "cell_type": "markdown",
   "metadata": {},
   "source": [
    "<img style=\"float:left;\" src=\"./img/dataview_hsbi.png\">"
   ]
  },
  {
   "cell_type": "code",
   "execution_count": null,
   "metadata": {
    "scrolled": true
   },
   "outputs": [],
   "source": [
    "# 绘制直方图\n",
    "plt.hist(np.random.randn(100), bins=10, color='b', alpha=0.3)\n",
    "plt.show()"
   ]
  },
  {
   "cell_type": "code",
   "execution_count": null,
   "metadata": {
    "scrolled": true
   },
   "outputs": [],
   "source": [
    "# 绘制散点图\n",
    "x = np.arange(50)\n",
    "y = x + 5 * np.random.rand(50)\n",
    "plt.scatter(x, y)"
   ]
  },
  {
   "cell_type": "code",
   "execution_count": null,
   "metadata": {
    "scrolled": true
   },
   "outputs": [],
   "source": [
    "# 柱状图\n",
    "x = np.arange(5)\n",
    "y1, y2 = np.random.randint(1, 25, size=(2,5))\n",
    "width = 0.5\n",
    "ax = plt.subplot(1,1,1)\n",
    "ax.bar(x, y1, width, color='r')\n",
    "ax.bar(x+width, y2, width, color='g')\n",
    "ax.set_xticks(x+width)\n",
    "ax.set_xticklabels(['a', 'b', 'c', 'd', 'e'])\n",
    "plt.show()"
   ]
  },
  {
   "cell_type": "code",
   "execution_count": null,
   "metadata": {
    "scrolled": true
   },
   "outputs": [],
   "source": [
    "# 矩阵绘图\n",
    "m = np.random.rand(10,10)\n",
    "print(m)\n",
    "plt.imshow(m, interpolation='nearest', cmap=plt.cm.ocean)\n",
    "plt.colorbar()\n",
    "plt.show()"
   ]
  },
  {
   "cell_type": "markdown",
   "metadata": {},
   "source": [
    "<img style=\"float:left;\" src=\"./img/dataview_subplots.png\">"
   ]
  },
  {
   "cell_type": "markdown",
   "metadata": {},
   "source": [
    "* ## plt.subplots()"
   ]
  },
  {
   "cell_type": "code",
   "execution_count": null,
   "metadata": {
    "scrolled": true
   },
   "outputs": [],
   "source": [
    "fig, subplot_arr = plt.subplots(2,2)\n",
    "subplot_arr[0,0].hist(np.random.randn(100), bins=10, color='b', alpha=0.3)\n",
    "plt.show()"
   ]
  },
  {
   "cell_type": "markdown",
   "metadata": {},
   "source": [
    "<img style=\"float:left;\" src=\"./img/dataview_cml.png\">"
   ]
  },
  {
   "cell_type": "markdown",
   "metadata": {},
   "source": [
    "* ## 颜色、标签、线性"
   ]
  },
  {
   "cell_type": "code",
   "execution_count": null,
   "metadata": {
    "scrolled": true
   },
   "outputs": [],
   "source": [
    "fig, axes = plt.subplots(2)\n",
    "axes[0].plot(np.random.randint(0, 100, 50), 'ro--')\n",
    "\n",
    "# 等价\n",
    "axes[1].plot(np.random.randint(0, 100, 50), color='r',linestyle='dashed', marker='o')"
   ]
  },
  {
   "cell_type": "markdown",
   "metadata": {},
   "source": [
    "<img style=\"float:left;\" src=\"./img/dataview_ticks.png\">"
   ]
  },
  {
   "cell_type": "markdown",
   "metadata": {},
   "source": [
    "* ## 刻度、标签、图例"
   ]
  },
  {
   "cell_type": "code",
   "execution_count": null,
   "metadata": {
    "scrolled": true
   },
   "outputs": [],
   "source": [
    "fig, ax = plt.subplots(1)\n",
    "ax.plot(np.random.randn(1000).cumsum(), label='line0')\n",
    "\n",
    "# 设置刻度\n",
    "# plt.xlim([0,500])\n",
    "ax.set_xlim([0,800])\n",
    "\n",
    "# 设置显示的刻度\n",
    "# plt.xticks([0,500])\n",
    "ax.set_xticks(range(0,500,100))\n",
    "\n",
    "# 设置刻度标签\n",
    "ax.set_yticklabels(['Jan', 'Feb', 'Mar'])\n",
    "\n",
    "# 设置坐标轴标签\n",
    "ax.set_xlabel('Number')\n",
    "ax.set_ylabel('Month')\n",
    "\n",
    "# 设置标题\n",
    "ax.set_title('Example')\n",
    "\n",
    "# 图例\n",
    "ax.plot(np.random.randn(1000).cumsum(), label='line1')\n",
    "ax.plot(np.random.randn(1000).cumsum(), label='line2')\n",
    "ax.legend()\n",
    "ax.legend(loc='best')\n",
    "# plt.legend()"
   ]
  },
  {
   "cell_type": "markdown",
   "metadata": {},
   "source": [
    "<img style=\"float:left;\" src=\"./img/dataview_seaborn_outline.png\">"
   ]
  },
  {
   "cell_type": "markdown",
   "metadata": {},
   "source": [
    "## <font size='7'>Seaborn</font>"
   ]
  },
  {
   "cell_type": "code",
   "execution_count": null,
   "metadata": {
    "scrolled": true
   },
   "outputs": [],
   "source": [
    "import numpy as np\n",
    "import pandas as pd\n",
    "from scipy import stats\n",
    "import matplotlib.pyplot as plt\n",
    "import seaborn as sns"
   ]
  },
  {
   "cell_type": "markdown",
   "metadata": {},
   "source": [
    "* ## 数据集分布可视化"
   ]
  },
  {
   "cell_type": "code",
   "execution_count": null,
   "metadata": {
    "scrolled": true
   },
   "outputs": [],
   "source": [
    "# 单变量分布\n",
    "x1 = np.random.normal(size=1000)\n",
    "sns.distplot(x1)"
   ]
  },
  {
   "cell_type": "code",
   "execution_count": null,
   "metadata": {
    "scrolled": true
   },
   "outputs": [],
   "source": [
    "# 直方图\n",
    "sns.distplot(x1, bins=20, kde=False, rug=True)"
   ]
  },
  {
   "cell_type": "code",
   "execution_count": null,
   "metadata": {
    "scrolled": true
   },
   "outputs": [],
   "source": [
    "x2 = np.random.randint(0, 100, 500)\n",
    "sns.distplot(x2)"
   ]
  },
  {
   "cell_type": "code",
   "execution_count": null,
   "metadata": {
    "scrolled": true
   },
   "outputs": [],
   "source": [
    "# 核密度估计\n",
    "sns.distplot(x2, hist=False, rug=True)"
   ]
  },
  {
   "cell_type": "code",
   "execution_count": null,
   "metadata": {
    "scrolled": true
   },
   "outputs": [],
   "source": [
    "sns.kdeplot(x2, shade=True)\n",
    "sns.rugplot(x2)"
   ]
  },
  {
   "cell_type": "code",
   "execution_count": null,
   "metadata": {
    "scrolled": true
   },
   "outputs": [],
   "source": [
    "# 拟合参数分布\n",
    "sns.distplot(x1, kde=False, fit=stats.gamma)"
   ]
  },
  {
   "cell_type": "code",
   "execution_count": null,
   "metadata": {
    "scrolled": true
   },
   "outputs": [],
   "source": [
    "# 双变量分布\n",
    "df_obj1 = pd.DataFrame({'x':np.random.randn(500),\n",
    "                       'y':np.random.randn(500)})\n",
    "\n",
    "df_obj2 = pd.DataFrame({'x':np.random.randn(500),\n",
    "                       'y':np.random.randint(0, 100, 500)})"
   ]
  },
  {
   "cell_type": "code",
   "execution_count": null,
   "metadata": {
    "scrolled": true
   },
   "outputs": [],
   "source": [
    "# 散布图\n",
    "sns.jointplot(x='x', y='y', data=df_obj1)"
   ]
  },
  {
   "cell_type": "code",
   "execution_count": null,
   "metadata": {
    "scrolled": true
   },
   "outputs": [],
   "source": [
    "# 二维直方图\n",
    "sns.jointplot(x='x', y='y', data=df_obj1, kind='hex')"
   ]
  },
  {
   "cell_type": "code",
   "execution_count": null,
   "metadata": {
    "scrolled": true
   },
   "outputs": [],
   "source": [
    "# 核密度估计\n",
    "sns.jointplot(x='x', y='y', data=df_obj1, kind='kde')"
   ]
  },
  {
   "cell_type": "code",
   "execution_count": null,
   "metadata": {
    "scrolled": true
   },
   "outputs": [],
   "source": [
    "# 数据集中变量间关系可视化\n",
    "dataset = sns.load_dataset('tips')\n",
    "sns.pairplot(dataset )"
   ]
  },
  {
   "cell_type": "markdown",
   "metadata": {},
   "source": [
    "<img style=\"float:left;\" src=\"./img/dataview_seaborn_type.png\">"
   ]
  },
  {
   "cell_type": "markdown",
   "metadata": {},
   "source": [
    "## 类别数据可视化"
   ]
  },
  {
   "cell_type": "code",
   "execution_count": null,
   "metadata": {
    "scrolled": true
   },
   "outputs": [],
   "source": [
    "# titanic = sns.load_dataset('titanic')\n",
    "# palnets = sns.load_dataset('palnets')\n",
    "# flights = sns.load_dataset('flights')\n",
    "# iris = sns.load_dataset('iris')\n",
    "exercise = sns.load_dataset('exercise')"
   ]
  },
  {
   "cell_type": "markdown",
   "metadata": {},
   "source": [
    "* ### 类别散布图"
   ]
  },
  {
   "cell_type": "code",
   "execution_count": null,
   "metadata": {
    "scrolled": true
   },
   "outputs": [],
   "source": [
    "sns.stripplot(x='diet', y='pulse', data=exercise)"
   ]
  },
  {
   "cell_type": "code",
   "execution_count": null,
   "metadata": {
    "scrolled": true
   },
   "outputs": [],
   "source": [
    "sns.swarmplot(x='diet', y='pulse', data=exercise, hue='kind')"
   ]
  },
  {
   "cell_type": "markdown",
   "metadata": {},
   "source": [
    "* ### 类别内数据分布"
   ]
  },
  {
   "cell_type": "code",
   "execution_count": null,
   "metadata": {
    "scrolled": true
   },
   "outputs": [],
   "source": [
    "# 盒子图\n",
    "sns.boxplot(x='diet', y='pulse', data=exercise)\n",
    "# sns.boxplot(x='diet', y='pulse', data=exercise, hue='kind')"
   ]
  },
  {
   "cell_type": "code",
   "execution_count": null,
   "metadata": {
    "scrolled": true
   },
   "outputs": [],
   "source": [
    "# 小提琴图\n",
    "# sns.violinplot(x='diet', y='pulse', data=exercise)\n",
    "sns.violinplot(x='diet', y='pulse', data=exercise, hue='kind')"
   ]
  },
  {
   "cell_type": "markdown",
   "metadata": {},
   "source": [
    "* ### 类别内统计图"
   ]
  },
  {
   "cell_type": "code",
   "execution_count": null,
   "metadata": {
    "scrolled": true
   },
   "outputs": [],
   "source": [
    "# 柱状图\n",
    "sns.barplot(x='diet', y='pulse', data=exercise, hue='kind')"
   ]
  },
  {
   "cell_type": "code",
   "execution_count": null,
   "metadata": {
    "scrolled": true
   },
   "outputs": [],
   "source": [
    "# 点图\n",
    "sns.pointplot(x='diet', y='pulse', data=exercise, hue='kind')"
   ]
  },
  {
   "cell_type": "markdown",
   "metadata": {
    "scrolled": true
   },
   "source": [
    "<img style=\"float:center;\" src=\"./img/dataview_boken_outine.png\">"
   ]
  },
  {
   "cell_type": "code",
   "execution_count": null,
   "metadata": {},
   "outputs": [],
   "source": [
    "from bokeh.io import output_notebook,output_file,show\n",
    "from bokeh.layouts import row\n",
    "from bokeh.plotting import figure\n",
    "import seaborn as sns"
   ]
  },
  {
   "cell_type": "code",
   "execution_count": null,
   "metadata": {},
   "outputs": [],
   "source": [
    "# 导入数据 \n",
    "exercise = sns.load_dataset('exercise')\n",
    "output_notebook()\n",
    "# output_file('test.html')"
   ]
  },
  {
   "cell_type": "markdown",
   "metadata": {},
   "source": [
    "* ## bokeh.charts"
   ]
  },
  {
   "cell_type": "code",
   "execution_count": null,
   "metadata": {},
   "outputs": [],
   "source": [
    "#　散点图\n",
    "exercise = sns.load_dataset('exercise')\n",
    "p = figure(title='exercise dataset', plot_width=600, plot_height=400, x_axis_label='id', y_axis_label='pulse')\n",
    "p.scatter('id','pulse', marker=\"square\", source=exercise)\n",
    "show(p)"
   ]
  },
  {
   "cell_type": "markdown",
   "metadata": {},
   "source": [
    "<img style=\"float:left;\" src=\"./img/dataview_boken_plotting.png\">"
   ]
  },
  {
   "cell_type": "markdown",
   "metadata": {},
   "source": [
    "* ## bokeh.plotting"
   ]
  },
  {
   "cell_type": "code",
   "execution_count": null,
   "metadata": {},
   "outputs": [],
   "source": [
    "from bokeh.plotting import figure\n",
    "import numpy as np\n",
    "\n",
    "p = figure(plot_width = 400, plot_height = 400)\n",
    "# 方框\n",
    "p.square(np.random.randint(1, 10, 5), np.random.randint(1, 10, 5), size=20, color=\"navy\")\n",
    "\n",
    "#圆图\n",
    "p.circle(np.random.randint(1, 10, 5), np.random.randint(1, 10, 5), size=10, color=\"green\")\n",
    "show(p)"
   ]
  },
  {
   "cell_type": "markdown",
   "metadata": {},
   "source": [
    "<img style=\"float:left;\" src=\"./img/dataview_logistic.png\">\n",
    "<a id=\"reg\">"
   ]
  },
  {
   "cell_type": "markdown",
   "metadata": {},
   "source": [
    "* ## logistic Regression模型的手工实现"
   ]
  },
  {
   "cell_type": "code",
   "execution_count": null,
   "metadata": {},
   "outputs": [],
   "source": [
    "# lr_tools.py\n",
    "\n",
    "import numpy as np\n",
    "from scipy.optimize import fmin_l_bfgs_b\n",
    "\n",
    "class LogisticRegression(object):\n",
    "    \"\"\"\n",
    "        Logistic Regression 类\n",
    "    \"\"\"\n",
    "\n",
    "    def __init__(self, c=1.):\n",
    "        self.c = c\n",
    "\n",
    "    def fit(self, X, y):\n",
    "        \"\"\"\n",
    "            训练模型\n",
    "        \"\"\"\n",
    "\n",
    "        self._beta = np.zeros((X.shape[1] + 1, 1))\n",
    "\n",
    "        # 使用L-BFGS-B求最优化\n",
    "        result = fmin_l_bfgs_b(cost_func,               # 损失函数\n",
    "                               self._beta,              # 初始值\n",
    "                               args=(X, y, self.c))     # 损失函数的参数\n",
    "\n",
    "        self._beta = result[0]\n",
    "        return self\n",
    "\n",
    "    def predict(self, X):\n",
    "        \"\"\"\n",
    "            预测，返回标签\n",
    "        \"\"\"\n",
    "        return np.argmax(self.predict_proba(X), axis=1)\n",
    "\n",
    "    def predict_proba(self, X):\n",
    "        \"\"\"\n",
    "            预测，返回概率\n",
    "        \"\"\"\n",
    "        X = np.hstack((np.ones((X.shape[0], 1)), X))\n",
    "        XBeta = np.dot(X, self._beta).reshape((-1, 1))\n",
    "\n",
    "        probs = 1. / (1. + np.exp(-XBeta))\n",
    "        return np.hstack((1 - probs, probs))\n",
    "\n",
    "\n",
    "def cost_func(beta, X, y, C):\n",
    "    \"\"\"\n",
    "        损失函数/目标函数\n",
    "        返回正则化的负对数似然值 及 梯度值\n",
    "    \"\"\"\n",
    "\n",
    "    # 给X加一列1，便于计算\n",
    "    X = np.hstack((np.ones((X.shape[0], 1)), X))\n",
    "    # 转成列向量\n",
    "    y = y.reshape((-1,1))\n",
    "\n",
    "    # 预先计算XBeta\n",
    "    XBeta = np.dot(X, beta).reshape((-1,1))\n",
    "\n",
    "    # 预先计算XBeta的exp值\n",
    "    exp_XBeta = np.exp(XBeta)\n",
    "\n",
    "    # 负对数似然值\n",
    "    neg_ll = C*np.sum(np.log(1. + exp_XBeta) - y*XBeta, axis=0)\n",
    "\n",
    "    # 负对数似然值的梯度\n",
    "    grad_neg_ll = C*np.sum((1./ (1. + exp_XBeta))*exp_XBeta*X - y*X, axis=0) + beta\n",
    "\n",
    "    return neg_ll, grad_neg_ll\n",
    "\n",
    "def cal_acc(true_labels, pred_labels):\n",
    "    \"\"\"\n",
    "        计算准确率\n",
    "    \"\"\"\n",
    "    n_total = len(true_labels)\n",
    "    correct_list = [true_labels[i] == pred_labels[i] for i in range(n_total)]\n",
    "    acc = sum(correct_list) / n_total\n",
    "    return acc"
   ]
  },
  {
   "cell_type": "code",
   "execution_count": null,
   "metadata": {},
   "outputs": [],
   "source": [
    "# main.py\n",
    "\n",
    "from sklearn.datasets import make_classification\n",
    "from sklearn.model_selection import train_test_split\n",
    "# from lr_tools import LogisticRegression, cal_acc\n",
    "\n",
    "def main():\n",
    "    X, y = make_classification(\n",
    "            n_samples=2000,\n",
    "            n_features=100,\n",
    "            n_classes=2,\n",
    "            random_state=17)\n",
    "\n",
    "    X_train, X_test, y_train, y_test = train_test_split(X, y, test_size=0.3,\n",
    "                                                        random_state=17)\n",
    "\n",
    "    lr_model = LogisticRegression()\n",
    "    lr_model.fit(X_train, y_train)\n",
    "\n",
    "    y_pred = lr_model.predict(X_test)\n",
    "\n",
    "    print('真实值：', y_test)\n",
    "    print('预测值：', y_pred)\n",
    "    acc = cal_acc(y_test, y_pred)\n",
    "    print('准确率：{:.2%}'.format(acc))\n",
    "\n",
    "if __name__ == '__main__':\n",
    "    main()"
   ]
  },
  {
   "cell_type": "code",
   "execution_count": null,
   "metadata": {},
   "outputs": [],
   "source": []
  }
 ],
 "metadata": {
  "kernelspec": {
   "display_name": "Python 3",
   "language": "python",
   "name": "python3"
  },
  "language_info": {
   "codemirror_mode": {
    "name": "ipython",
    "version": 3
   },
   "file_extension": ".py",
   "mimetype": "text/x-python",
   "name": "python",
   "nbconvert_exporter": "python",
   "pygments_lexer": "ipython3",
   "version": "3.6.4"
  }
 },
 "nbformat": 4,
 "nbformat_minor": 2
}
